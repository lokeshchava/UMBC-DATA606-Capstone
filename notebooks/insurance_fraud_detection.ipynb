{
 "cells": [
  {
   "cell_type": "code",
   "execution_count": 1,
   "metadata": {
    "_cell_guid": "4d0f1e96-8602-40bb-ad7b-05b366793ddd",
    "_uuid": "dfec1c19-c3e6-4b56-87d6-b34184be2e6f",
    "execution": {
     "iopub.execute_input": "2022-08-11T04:04:25.814069Z",
     "iopub.status.busy": "2022-08-11T04:04:25.813651Z",
     "iopub.status.idle": "2022-08-11T04:04:26.835252Z",
     "shell.execute_reply": "2022-08-11T04:04:26.833988Z",
     "shell.execute_reply.started": "2022-08-11T04:04:25.814034Z"
    },
    "id": "U7kasu6U-Yjg",
    "jupyter": {
     "outputs_hidden": false
    }
   },
   "outputs": [],
   "source": [
    "import numpy as np\n",
    "import pandas as pd\n",
    "import matplotlib.pyplot as plt\n",
    "import seaborn as sns\n",
    "from sklearn.preprocessing import LabelEncoder\n",
    "from sklearn.preprocessing import StandardScaler\n",
    "from sklearn.model_selection import train_test_split\n",
    "from sklearn.metrics import f1_score, accuracy_score, confusion_matrix,roc_auc_score\n",
    "from sklearn.linear_model import LogisticRegression\n",
    "from sklearn.ensemble import RandomForestClassifier\n",
    "from sklearn.utils import resample\n",
    "import warnings\n",
    "warnings.filterwarnings(\"ignore\")"
   ]
  },
  {
   "cell_type": "code",
   "execution_count": 24,
   "metadata": {
    "_cell_guid": "7b0f8808-482f-471a-bc39-aaf1f62de0a7",
    "_uuid": "d4676190-ac97-4ab5-9d1c-04997f6b51b1",
    "execution": {
     "iopub.execute_input": "2022-08-11T04:04:27.463629Z",
     "iopub.status.busy": "2022-08-11T04:04:27.463207Z",
     "iopub.status.idle": "2022-08-11T04:04:27.599677Z",
     "shell.execute_reply": "2022-08-11T04:04:27.598409Z",
     "shell.execute_reply.started": "2022-08-11T04:04:27.463594Z"
    },
    "id": "PYHl0LUR-Yjh",
    "jupyter": {
     "outputs_hidden": false
    }
   },
   "outputs": [],
   "source": [
    "df = pd.read_csv(\"carclaims.csv\")"
   ]
  },
  {
   "cell_type": "code",
   "execution_count": 25,
   "metadata": {
    "_cell_guid": "cf9d4a0d-0a26-423a-ba25-55777dd911f3",
    "_uuid": "c3ff85f1-bc94-4eb0-b8d0-3d091d8994ea",
    "colab": {
     "base_uri": "https://localhost:8080/",
     "height": 347
    },
    "execution": {
     "iopub.execute_input": "2022-08-11T04:04:32.139285Z",
     "iopub.status.busy": "2022-08-11T04:04:32.13879Z",
     "iopub.status.idle": "2022-08-11T04:04:32.18137Z",
     "shell.execute_reply": "2022-08-11T04:04:32.180126Z",
     "shell.execute_reply.started": "2022-08-11T04:04:32.139248Z"
    },
    "id": "jCr3tuCg-Yjh",
    "jupyter": {
     "outputs_hidden": false
    },
    "outputId": "9f4bc3eb-7ae5-4d76-ffcd-9a0386109139"
   },
   "outputs": [
    {
     "data": {
      "text/html": [
       "<div>\n",
       "<style scoped>\n",
       "    .dataframe tbody tr th:only-of-type {\n",
       "        vertical-align: middle;\n",
       "    }\n",
       "\n",
       "    .dataframe tbody tr th {\n",
       "        vertical-align: top;\n",
       "    }\n",
       "\n",
       "    .dataframe thead th {\n",
       "        text-align: right;\n",
       "    }\n",
       "</style>\n",
       "<table border=\"1\" class=\"dataframe\">\n",
       "  <thead>\n",
       "    <tr style=\"text-align: right;\">\n",
       "      <th></th>\n",
       "      <th>Month</th>\n",
       "      <th>WeekOfMonth</th>\n",
       "      <th>DayOfWeek</th>\n",
       "      <th>Make</th>\n",
       "      <th>AccidentArea</th>\n",
       "      <th>DayOfWeekClaimed</th>\n",
       "      <th>MonthClaimed</th>\n",
       "      <th>WeekOfMonthClaimed</th>\n",
       "      <th>Sex</th>\n",
       "      <th>MaritalStatus</th>\n",
       "      <th>...</th>\n",
       "      <th>AgeOfPolicyHolder</th>\n",
       "      <th>PoliceReportFiled</th>\n",
       "      <th>WitnessPresent</th>\n",
       "      <th>AgentType</th>\n",
       "      <th>NumberOfSuppliments</th>\n",
       "      <th>AddressChange-Claim</th>\n",
       "      <th>NumberOfCars</th>\n",
       "      <th>Year</th>\n",
       "      <th>BasePolicy</th>\n",
       "      <th>FraudFound</th>\n",
       "    </tr>\n",
       "  </thead>\n",
       "  <tbody>\n",
       "    <tr>\n",
       "      <th>15415</th>\n",
       "      <td>Nov</td>\n",
       "      <td>4</td>\n",
       "      <td>Friday</td>\n",
       "      <td>Toyota</td>\n",
       "      <td>Urban</td>\n",
       "      <td>Tuesday</td>\n",
       "      <td>Nov</td>\n",
       "      <td>5</td>\n",
       "      <td>Male</td>\n",
       "      <td>Married</td>\n",
       "      <td>...</td>\n",
       "      <td>31 to 35</td>\n",
       "      <td>No</td>\n",
       "      <td>No</td>\n",
       "      <td>External</td>\n",
       "      <td>none</td>\n",
       "      <td>no change</td>\n",
       "      <td>1 vehicle</td>\n",
       "      <td>1996</td>\n",
       "      <td>Collision</td>\n",
       "      <td>Yes</td>\n",
       "    </tr>\n",
       "    <tr>\n",
       "      <th>15416</th>\n",
       "      <td>Nov</td>\n",
       "      <td>5</td>\n",
       "      <td>Thursday</td>\n",
       "      <td>Pontiac</td>\n",
       "      <td>Urban</td>\n",
       "      <td>Friday</td>\n",
       "      <td>Dec</td>\n",
       "      <td>1</td>\n",
       "      <td>Male</td>\n",
       "      <td>Married</td>\n",
       "      <td>...</td>\n",
       "      <td>31 to 35</td>\n",
       "      <td>No</td>\n",
       "      <td>No</td>\n",
       "      <td>External</td>\n",
       "      <td>more than 5</td>\n",
       "      <td>no change</td>\n",
       "      <td>3 to 4</td>\n",
       "      <td>1996</td>\n",
       "      <td>Liability</td>\n",
       "      <td>No</td>\n",
       "    </tr>\n",
       "    <tr>\n",
       "      <th>15417</th>\n",
       "      <td>Nov</td>\n",
       "      <td>5</td>\n",
       "      <td>Thursday</td>\n",
       "      <td>Toyota</td>\n",
       "      <td>Rural</td>\n",
       "      <td>Friday</td>\n",
       "      <td>Dec</td>\n",
       "      <td>1</td>\n",
       "      <td>Male</td>\n",
       "      <td>Single</td>\n",
       "      <td>...</td>\n",
       "      <td>26 to 30</td>\n",
       "      <td>No</td>\n",
       "      <td>No</td>\n",
       "      <td>External</td>\n",
       "      <td>1 to 2</td>\n",
       "      <td>no change</td>\n",
       "      <td>1 vehicle</td>\n",
       "      <td>1996</td>\n",
       "      <td>Collision</td>\n",
       "      <td>Yes</td>\n",
       "    </tr>\n",
       "    <tr>\n",
       "      <th>15418</th>\n",
       "      <td>Dec</td>\n",
       "      <td>1</td>\n",
       "      <td>Monday</td>\n",
       "      <td>Toyota</td>\n",
       "      <td>Urban</td>\n",
       "      <td>Thursday</td>\n",
       "      <td>Dec</td>\n",
       "      <td>2</td>\n",
       "      <td>Female</td>\n",
       "      <td>Married</td>\n",
       "      <td>...</td>\n",
       "      <td>31 to 35</td>\n",
       "      <td>No</td>\n",
       "      <td>No</td>\n",
       "      <td>External</td>\n",
       "      <td>more than 5</td>\n",
       "      <td>no change</td>\n",
       "      <td>1 vehicle</td>\n",
       "      <td>1996</td>\n",
       "      <td>All Perils</td>\n",
       "      <td>No</td>\n",
       "    </tr>\n",
       "    <tr>\n",
       "      <th>15419</th>\n",
       "      <td>Dec</td>\n",
       "      <td>2</td>\n",
       "      <td>Wednesday</td>\n",
       "      <td>Toyota</td>\n",
       "      <td>Urban</td>\n",
       "      <td>Thursday</td>\n",
       "      <td>Dec</td>\n",
       "      <td>3</td>\n",
       "      <td>Male</td>\n",
       "      <td>Single</td>\n",
       "      <td>...</td>\n",
       "      <td>26 to 30</td>\n",
       "      <td>No</td>\n",
       "      <td>No</td>\n",
       "      <td>External</td>\n",
       "      <td>1 to 2</td>\n",
       "      <td>no change</td>\n",
       "      <td>1 vehicle</td>\n",
       "      <td>1996</td>\n",
       "      <td>Collision</td>\n",
       "      <td>Yes</td>\n",
       "    </tr>\n",
       "  </tbody>\n",
       "</table>\n",
       "<p>5 rows × 33 columns</p>\n",
       "</div>"
      ],
      "text/plain": [
       "      Month  WeekOfMonth  DayOfWeek     Make AccidentArea DayOfWeekClaimed  \\\n",
       "15415   Nov            4     Friday   Toyota        Urban          Tuesday   \n",
       "15416   Nov            5   Thursday  Pontiac        Urban           Friday   \n",
       "15417   Nov            5   Thursday   Toyota        Rural           Friday   \n",
       "15418   Dec            1     Monday   Toyota        Urban         Thursday   \n",
       "15419   Dec            2  Wednesday   Toyota        Urban         Thursday   \n",
       "\n",
       "      MonthClaimed  WeekOfMonthClaimed     Sex MaritalStatus  ...  \\\n",
       "15415          Nov                   5    Male       Married  ...   \n",
       "15416          Dec                   1    Male       Married  ...   \n",
       "15417          Dec                   1    Male        Single  ...   \n",
       "15418          Dec                   2  Female       Married  ...   \n",
       "15419          Dec                   3    Male        Single  ...   \n",
       "\n",
       "       AgeOfPolicyHolder PoliceReportFiled WitnessPresent AgentType  \\\n",
       "15415           31 to 35                No             No  External   \n",
       "15416           31 to 35                No             No  External   \n",
       "15417           26 to 30                No             No  External   \n",
       "15418           31 to 35                No             No  External   \n",
       "15419           26 to 30                No             No  External   \n",
       "\n",
       "      NumberOfSuppliments  AddressChange-Claim  NumberOfCars  Year  \\\n",
       "15415                none            no change     1 vehicle  1996   \n",
       "15416         more than 5            no change        3 to 4  1996   \n",
       "15417              1 to 2            no change     1 vehicle  1996   \n",
       "15418         more than 5            no change     1 vehicle  1996   \n",
       "15419              1 to 2            no change     1 vehicle  1996   \n",
       "\n",
       "       BasePolicy FraudFound  \n",
       "15415   Collision        Yes  \n",
       "15416   Liability         No  \n",
       "15417   Collision        Yes  \n",
       "15418  All Perils         No  \n",
       "15419   Collision        Yes  \n",
       "\n",
       "[5 rows x 33 columns]"
      ]
     },
     "execution_count": 25,
     "metadata": {},
     "output_type": "execute_result"
    }
   ],
   "source": [
    "df.tail()"
   ]
  },
  {
   "cell_type": "code",
   "execution_count": 27,
   "metadata": {},
   "outputs": [
    {
     "data": {
      "text/plain": [
       "Month                                 Dec\n",
       "WeekOfMonth                             5\n",
       "DayOfWeek                       Wednesday\n",
       "Make                                Honda\n",
       "AccidentArea                        Urban\n",
       "DayOfWeekClaimed                  Tuesday\n",
       "MonthClaimed                          Jan\n",
       "WeekOfMonthClaimed                      1\n",
       "Sex                                Female\n",
       "MaritalStatus                      Single\n",
       "Age                                    21\n",
       "Fault                       Policy Holder\n",
       "PolicyType              Sport - Liability\n",
       "VehicleCategory                     Sport\n",
       "VehiclePrice             more than 69,000\n",
       "PolicyNumber                            1\n",
       "RepNumber                              12\n",
       "Deductible                            300\n",
       "DriverRating                            1\n",
       "Days:Policy-Accident         more than 30\n",
       "Days:Policy-Claim            more than 30\n",
       "PastNumberOfClaims                   none\n",
       "AgeOfVehicle                      3 years\n",
       "AgeOfPolicyHolder                26 to 30\n",
       "PoliceReportFiled                      No\n",
       "WitnessPresent                         No\n",
       "AgentType                        External\n",
       "NumberOfSuppliments                  none\n",
       "AddressChange-Claim                1 year\n",
       "NumberOfCars                       3 to 4\n",
       "Year                                 1994\n",
       "BasePolicy                      Liability\n",
       "FraudFound                             No\n",
       "Name: 0, dtype: object"
      ]
     },
     "execution_count": 27,
     "metadata": {},
     "output_type": "execute_result"
    }
   ],
   "source": [
    "df.iloc[0]"
   ]
  },
  {
   "cell_type": "code",
   "execution_count": 28,
   "metadata": {},
   "outputs": [
    {
     "data": {
      "text/plain": [
       "array(['more than 69,000', '20,000 to 29,000', '30,000 to 39,000',\n",
       "       'less than 20,000', '40,000 to 59,000', '60,000 to 69,000'],\n",
       "      dtype=object)"
      ]
     },
     "execution_count": 28,
     "metadata": {},
     "output_type": "execute_result"
    }
   ],
   "source": [
    "df.VehiclePrice.unique()"
   ]
  },
  {
   "cell_type": "code",
   "execution_count": 29,
   "metadata": {
    "_cell_guid": "a1d0309f-1d91-473f-b5a9-872e7b3f3b36",
    "_uuid": "48e17e1c-5210-4bf1-9cd0-04dd8646ad85",
    "colab": {
     "base_uri": "https://localhost:8080/"
    },
    "execution": {
     "iopub.execute_input": "2022-08-11T04:08:53.038909Z",
     "iopub.status.busy": "2022-08-11T04:08:53.038468Z",
     "iopub.status.idle": "2022-08-11T04:08:53.045154Z",
     "shell.execute_reply": "2022-08-11T04:08:53.044099Z",
     "shell.execute_reply.started": "2022-08-11T04:08:53.038873Z"
    },
    "id": "OJ99kaY2-Yjh",
    "jupyter": {
     "outputs_hidden": false
    },
    "outputId": "31d756bc-5431-4aa0-cb54-9b7969e4c552"
   },
   "outputs": [
    {
     "name": "stdout",
     "output_type": "stream",
     "text": [
      "Number of Features Available: 33\n",
      "Number of Records Available : 15420\n"
     ]
    }
   ],
   "source": [
    "print(\"Number of Features Available:\",df.shape[1])\n",
    "print(\"Number of Records Available :\",df.shape[0])"
   ]
  },
  {
   "cell_type": "code",
   "execution_count": 30,
   "metadata": {
    "_cell_guid": "b4da09df-367f-48e3-ad67-967f5e7d5fb0",
    "_uuid": "de9f8905-506a-4ac3-b363-6be0f1bba386",
    "colab": {
     "base_uri": "https://localhost:8080/"
    },
    "execution": {
     "iopub.execute_input": "2022-08-11T04:08:56.682095Z",
     "iopub.status.busy": "2022-08-11T04:08:56.681706Z",
     "iopub.status.idle": "2022-08-11T04:08:56.708987Z",
     "shell.execute_reply": "2022-08-11T04:08:56.707968Z",
     "shell.execute_reply.started": "2022-08-11T04:08:56.682065Z"
    },
    "id": "QQUYO9PI-Yjh",
    "jupyter": {
     "outputs_hidden": false
    },
    "outputId": "3829e244-9615-468c-8558-03106f3998b9"
   },
   "outputs": [
    {
     "name": "stdout",
     "output_type": "stream",
     "text": [
      "Any missing data?:\n",
      "Month                   0\n",
      "WeekOfMonth             0\n",
      "DayOfWeek               0\n",
      "Make                    0\n",
      "AccidentArea            0\n",
      "DayOfWeekClaimed        0\n",
      "MonthClaimed            0\n",
      "WeekOfMonthClaimed      0\n",
      "Sex                     0\n",
      "MaritalStatus           0\n",
      "Age                     0\n",
      "Fault                   0\n",
      "PolicyType              0\n",
      "VehicleCategory         0\n",
      "VehiclePrice            0\n",
      "PolicyNumber            0\n",
      "RepNumber               0\n",
      "Deductible              0\n",
      "DriverRating            0\n",
      "Days:Policy-Accident    0\n",
      "Days:Policy-Claim       0\n",
      "PastNumberOfClaims      0\n",
      "AgeOfVehicle            0\n",
      "AgeOfPolicyHolder       0\n",
      "PoliceReportFiled       0\n",
      "WitnessPresent          0\n",
      "AgentType               0\n",
      "NumberOfSuppliments     0\n",
      "AddressChange-Claim     0\n",
      "NumberOfCars            0\n",
      "Year                    0\n",
      "BasePolicy              0\n",
      "FraudFound              0\n",
      "dtype: int64\n"
     ]
    }
   ],
   "source": [
    "print(\"Any missing data?:\")\n",
    "print(df.isnull().sum())"
   ]
  },
  {
   "cell_type": "markdown",
   "metadata": {
    "_cell_guid": "732f194a-bc8e-4181-bb65-f0b0d3a922f5",
    "_uuid": "45d22c59-1753-4afb-97ae-7e8c3c9bca1b",
    "id": "Pn4Z_Hk_-Yji"
   },
   "source": [
    "# Data Visualization"
   ]
  },
  {
   "cell_type": "code",
   "execution_count": 31,
   "metadata": {
    "_cell_guid": "e1c49530-5bb3-4202-8c80-c008243043df",
    "_uuid": "f95b5f68-f29a-41ee-b0a9-53f53ab9d385",
    "colab": {
     "base_uri": "https://localhost:8080/",
     "height": 675
    },
    "execution": {
     "iopub.execute_input": "2022-08-11T04:09:13.74024Z",
     "iopub.status.busy": "2022-08-11T04:09:13.739759Z",
     "iopub.status.idle": "2022-08-11T04:09:13.923132Z",
     "shell.execute_reply": "2022-08-11T04:09:13.921578Z",
     "shell.execute_reply.started": "2022-08-11T04:09:13.740196Z"
    },
    "id": "oOmsSz5I-Yji",
    "jupyter": {
     "outputs_hidden": false
    },
    "outputId": "9a015e5b-206d-484a-fbcd-7bb0a182d50f"
   },
   "outputs": [
    {
     "data": {
      "image/png": "[encoded data removed]",
      "text/plain": [
       "<Figure size 720x576 with 1 Axes>"
      ]
     },
     "metadata": {},
     "output_type": "display_data"
    }
   ],
   "source": [
    "#create pie chart\n",
    "plt.figure(figsize=(10,8))\n",
    "plt.pie(df.FraudFound.value_counts().values,labels=df.FraudFound.value_counts().index,  autopct='%.0f%%')\n",
    "plt.title(\"Fraud Type\")\n",
    "plt.show()"
   ]
  },
  {
   "cell_type": "markdown",
   "metadata": {
    "_cell_guid": "4380c0dc-c343-41b1-ac0d-4dbe391d3704",
    "_uuid": "ee0602fa-c534-4a74-aa42-28ea87bec02a",
    "id": "PlhWrw-S-Yji"
   },
   "source": [
    "### Only 6% of Claims are detected as Fraud and since this is the target feature, shows the dataset is extremely imbalanced"
   ]
  },
  {
   "cell_type": "code",
   "execution_count": 32,
   "metadata": {
    "_cell_guid": "e554cf1c-bc74-4f46-98fe-1980fba9df4d",
    "_uuid": "2eb2c642-eb9f-41a2-ab46-e82d388fe29f",
    "execution": {
     "iopub.execute_input": "2022-08-11T04:09:35.149009Z",
     "iopub.status.busy": "2022-08-11T04:09:35.148613Z",
     "iopub.status.idle": "2022-08-11T04:09:35.168726Z",
     "shell.execute_reply": "2022-08-11T04:09:35.167496Z",
     "shell.execute_reply.started": "2022-08-11T04:09:35.148978Z"
    },
    "id": "J-ng9qDf-Yji",
    "jupyter": {
     "outputs_hidden": false
    }
   },
   "outputs": [],
   "source": [
    "# Replace the Labels to 0 and 1\n",
    "df.loc[df['FraudFound'] == 'No','FraudFound'] = 0\n",
    "df.loc[df['FraudFound'] == 'Yes','FraudFound'] = 1\n",
    "\n",
    "df['FraudFound'] = df['FraudFound'].astype(int)"
   ]
  },
  {
   "cell_type": "code",
   "execution_count": 33,
   "metadata": {
    "_cell_guid": "dd825607-4a64-42db-a4b1-687817c743a4",
    "_uuid": "49d726e7-18d3-4603-bff9-5bbef4149395",
    "colab": {
     "base_uri": "https://localhost:8080/",
     "height": 571
    },
    "execution": {
     "iopub.execute_input": "2022-08-11T04:09:51.592426Z",
     "iopub.status.busy": "2022-08-11T04:09:51.592023Z",
     "iopub.status.idle": "2022-08-11T04:09:51.971195Z",
     "shell.execute_reply": "2022-08-11T04:09:51.970194Z",
     "shell.execute_reply.started": "2022-08-11T04:09:51.592394Z"
    },
    "id": "LvsPVkp2-Yji",
    "jupyter": {
     "outputs_hidden": false
    },
    "outputId": "faa841be-c35a-42fe-9138-9f1a6876f49e"
   },
   "outputs": [
    {
     "data": {
      "image/png": "[encoded data removed]",
      "text/plain": [
       "<Figure size 1440x576 with 1 Axes>"
      ]
     },
     "metadata": {
      "needs_background": "light"
     },
     "output_type": "display_data"
    }
   ],
   "source": [
    "make = df.groupby('Make')['FraudFound'].sum()\n",
    "plt.figure(figsize=(20,8))\n",
    "plt.title(\"Car Make Vs Frauds\")\n",
    "\n",
    "ax = sns.barplot(x=make.index,y=make.values)\n",
    "for p in ax.patches:\n",
    "    ax.annotate(str(format(int(p.get_height()), ',d')), (p.get_x()+0.24, p.get_height()*1.01))\n",
    "plt.xlabel(\"Car Make\")\n",
    "plt.ylabel(\"Number of Fraud\");\n",
    "plt.yticks([])\n",
    "plt.show()"
   ]
  },
  {
   "cell_type": "markdown",
   "metadata": {
    "_cell_guid": "96e0131f-d364-4c2f-bf23-f0d4e9ad00b6",
    "_uuid": "dd585c0a-3f25-437b-9f87-8eccad408645",
    "id": "eG4MjdqU-Yji"
   },
   "source": [
    "### Most of the Fraud Cases found in Pontiac and none in Jaguar,Lexus,Porche and Ferrari"
   ]
  },
  {
   "cell_type": "code",
   "execution_count": 34,
   "metadata": {
    "_cell_guid": "782a8abe-9503-4597-b84f-663494224614",
    "_uuid": "18b1f8b6-7e55-4c23-89ac-a056f85381a1",
    "colab": {
     "base_uri": "https://localhost:8080/",
     "height": 571
    },
    "execution": {
     "iopub.execute_input": "2022-08-11T04:10:02.004279Z",
     "iopub.status.busy": "2022-08-11T04:10:02.00385Z",
     "iopub.status.idle": "2022-08-11T04:10:02.399266Z",
     "shell.execute_reply": "2022-08-11T04:10:02.398017Z",
     "shell.execute_reply.started": "2022-08-11T04:10:02.004245Z"
    },
    "id": "cUxZkqg2-Yji",
    "jupyter": {
     "outputs_hidden": false
    },
    "outputId": "b38e570c-3a9f-44fb-9281-ebb7902b547e"
   },
   "outputs": [
    {
     "data": {
      "image/png": "[encoded data removed]",
      "text/plain": [
       "<Figure size 1440x576 with 1 Axes>"
      ]
     },
     "metadata": {
      "needs_background": "light"
     },
     "output_type": "display_data"
    }
   ],
   "source": [
    "plt.figure(figsize=(20,8))\n",
    "plt.title(\"Car Make Count\")\n",
    "\n",
    "ax = sns.countplot(x=df['Make'])\n",
    "for p in ax.patches:\n",
    "    ax.annotate(str(format(int(p.get_height()), ',d')), (p.get_x()+0.24, p.get_height()*1.01))\n",
    "plt.xlabel(\"Car Make\")\n",
    "plt.ylabel(\"Count of Cars\");\n",
    "plt.yticks([])\n",
    "plt.show()"
   ]
  },
  {
   "cell_type": "markdown",
   "metadata": {
    "_cell_guid": "4baa78b6-5c08-4ee3-9e0d-b1348ba53cfc",
    "_uuid": "ca41389a-efff-4fdd-8429-85817794e872",
    "id": "7-6h4MOj-Yji"
   },
   "source": [
    "### The number of cars involved in an accident show why Jaguar,Lexus,Porche and Ferrari have no Fraud Claims while Pontiac have more such claims."
   ]
  },
  {
   "cell_type": "code",
   "execution_count": 35,
   "metadata": {
    "_cell_guid": "df8efccd-34f2-4535-b49e-8102c33aac47",
    "_uuid": "b68c64bf-528c-4130-a036-6698cec8b6ef",
    "colab": {
     "base_uri": "https://localhost:8080/",
     "height": 571
    },
    "execution": {
     "iopub.execute_input": "2022-08-11T04:10:43.000388Z",
     "iopub.status.busy": "2022-08-11T04:10:42.999927Z",
     "iopub.status.idle": "2022-08-11T04:10:43.275211Z",
     "shell.execute_reply": "2022-08-11T04:10:43.27409Z",
     "shell.execute_reply.started": "2022-08-11T04:10:43.000351Z"
    },
    "id": "-LihIOJ9-Yji",
    "jupyter": {
     "outputs_hidden": false
    },
    "outputId": "d8a1fa11-de4d-472f-963b-2e97e102bfbc"
   },
   "outputs": [
    {
     "data": {
      "image/png": "[encoded data removed]",
      "text/plain": [
       "<Figure size 1440x576 with 1 Axes>"
      ]
     },
     "metadata": {
      "needs_background": "light"
     },
     "output_type": "display_data"
    }
   ],
   "source": [
    "policyAge = df.groupby('AgeOfPolicyHolder')['FraudFound'].sum()\n",
    "plt.figure(figsize=(20,8))\n",
    "plt.title(\"Policy Holder's Age Vs Frauds\")\n",
    "\n",
    "ax = sns.barplot(x=policyAge.index,y=policyAge.values)\n",
    "for p in ax.patches:\n",
    "    ax.annotate(str(format(int(p.get_height()), ',d')), (p.get_x()+0.24, p.get_height()*1.01))\n",
    "plt.xlabel(\"Policy Holder's Age\")\n",
    "plt.ylabel(\"Number of Fraud\");\n",
    "plt.yticks([])\n",
    "plt.show()"
   ]
  },
  {
   "cell_type": "markdown",
   "metadata": {
    "_cell_guid": "34904510-83dd-442c-9eb4-693847a4cb56",
    "_uuid": "2ffa488f-000a-4c18-8df7-c4d675b393a5",
    "id": "2ij7V7Kv-Yji"
   },
   "source": [
    "### Most of the fraud seen are in the age group of 31-35 while the least is 18-20"
   ]
  },
  {
   "cell_type": "code",
   "execution_count": 36,
   "metadata": {
    "_cell_guid": "ff8ab99c-86d5-481c-906f-47bc3f277ff4",
    "_uuid": "89bfd6df-8c06-483e-a8ef-c86ce6a6970e",
    "colab": {
     "base_uri": "https://localhost:8080/",
     "height": 675
    },
    "execution": {
     "iopub.execute_input": "2022-08-11T04:12:30.10619Z",
     "iopub.status.busy": "2022-08-11T04:12:30.104966Z",
     "iopub.status.idle": "2022-08-11T04:12:30.239324Z",
     "shell.execute_reply": "2022-08-11T04:12:30.237729Z",
     "shell.execute_reply.started": "2022-08-11T04:12:30.106148Z"
    },
    "id": "afE9UZV7-Yji",
    "jupyter": {
     "outputs_hidden": false
    },
    "outputId": "3737dac4-13e4-4a4a-c213-d2bcfbc95725"
   },
   "outputs": [
    {
     "data": {
      "image/png": "[encoded data removed]",
      "text/plain": [
       "<Figure size 720x576 with 1 Axes>"
      ]
     },
     "metadata": {},
     "output_type": "display_data"
    }
   ],
   "source": [
    "gender = df.groupby('Sex')['FraudFound'].sum()\n",
    "plt.figure(figsize=(10,8))\n",
    "plt.title(\"Gender Vs Frauds\")\n",
    "\n",
    "plt.pie(gender.values,labels=gender.index,  autopct='%.0f%%')\n",
    "\n",
    "plt.show()"
   ]
  },
  {
   "cell_type": "markdown",
   "metadata": {
    "_cell_guid": "920841c9-06e3-40f4-9246-2a7fb5ac7be9",
    "_uuid": "986edeec-9384-4d02-bca0-d81fad3716c4",
    "id": "oGZOrPcc-Yji"
   },
   "source": [
    "### Fraud by Men is more compared to Women"
   ]
  },
  {
   "cell_type": "code",
   "execution_count": 37,
   "metadata": {
    "_cell_guid": "634fc600-8234-4669-81b9-e6e7b3b5eeaf",
    "_uuid": "928e72c4-239a-45ed-8fe5-533c535f5d7b",
    "colab": {
     "base_uri": "https://localhost:8080/",
     "height": 675
    },
    "execution": {
     "iopub.execute_input": "2022-08-11T04:13:54.611833Z",
     "iopub.status.busy": "2022-08-11T04:13:54.611402Z",
     "iopub.status.idle": "2022-08-11T04:13:54.742757Z",
     "shell.execute_reply": "2022-08-11T04:13:54.741169Z",
     "shell.execute_reply.started": "2022-08-11T04:13:54.611799Z"
    },
    "id": "AFmsTUNF-Yjj",
    "jupyter": {
     "outputs_hidden": false
    },
    "outputId": "3683838b-447f-4d89-dd52-33976908caac"
   },
   "outputs": [
    {
     "data": {
      "image/png": "[encoded data removed]",
      "text/plain": [
       "<Figure size 720x576 with 1 Axes>"
      ]
     },
     "metadata": {},
     "output_type": "display_data"
    }
   ],
   "source": [
    "accidentArea = df.groupby('AccidentArea')['FraudFound'].sum()\n",
    "\n",
    "plt.figure(figsize=(10,8))\n",
    "plt.title(\"AccidentArea Vs Frauds\")\n",
    "\n",
    "plt.pie(accidentArea.values,labels=accidentArea.index,  autopct='%.0f%%')\n",
    "\n",
    "plt.show()"
   ]
  },
  {
   "cell_type": "markdown",
   "metadata": {
    "_cell_guid": "4392716c-ccd4-4cb5-937d-a0005ca99ad5",
    "_uuid": "e1964eed-13cc-4a38-9914-3964871d1774",
    "id": "aASQIIOL-Yjj"
   },
   "source": [
    "### More Frauds in Urban Area"
   ]
  },
  {
   "cell_type": "code",
   "execution_count": 38,
   "metadata": {
    "_cell_guid": "cfe935d4-597a-43ac-be6b-c696d4807438",
    "_uuid": "0448dc79-6c64-4109-a9bd-906fc7f5a31a",
    "colab": {
     "base_uri": "https://localhost:8080/",
     "height": 675
    },
    "execution": {
     "iopub.execute_input": "2022-08-11T04:13:57.752709Z",
     "iopub.status.busy": "2022-08-11T04:13:57.751413Z",
     "iopub.status.idle": "2022-08-11T04:13:57.892589Z",
     "shell.execute_reply": "2022-08-11T04:13:57.888381Z",
     "shell.execute_reply.started": "2022-08-11T04:13:57.752657Z"
    },
    "id": "8YLSMt2r-Yjj",
    "jupyter": {
     "outputs_hidden": false
    },
    "outputId": "9f2e6974-41df-40de-8a53-de7d8014e67e"
   },
   "outputs": [
    {
     "data": {
      "image/png": "[encoded data removed]",
      "text/plain": [
       "<Figure size 720x576 with 1 Axes>"
      ]
     },
     "metadata": {},
     "output_type": "display_data"
    }
   ],
   "source": [
    "fault = df.groupby('Fault')['FraudFound'].sum()\n",
    "\n",
    "plt.figure(figsize=(10,8))\n",
    "plt.title(\"Fault Vs Frauds\")\n",
    "plt.pie(fault.values,labels=fault.index,  autopct='%.0f%%')\n",
    "plt.show()"
   ]
  },
  {
   "cell_type": "markdown",
   "metadata": {
    "_cell_guid": "499c1954-d51c-4610-9211-fe463effa0f6",
    "_uuid": "a439057f-7ba6-4225-8f10-16dfc1723edb",
    "id": "50nw69Ds-Yjj"
   },
   "source": [
    "### Clearly, Frauds are done more by Policy Holders"
   ]
  },
  {
   "cell_type": "code",
   "execution_count": 39,
   "metadata": {
    "_cell_guid": "91baab03-7cec-404e-9c32-ac781e4f673b",
    "_uuid": "8b9020d7-d9b7-44cf-b04c-dad49f79ec81",
    "colab": {
     "base_uri": "https://localhost:8080/",
     "height": 571
    },
    "execution": {
     "iopub.execute_input": "2022-08-11T04:14:19.542099Z",
     "iopub.status.busy": "2022-08-11T04:14:19.54103Z",
     "iopub.status.idle": "2022-08-11T04:14:19.758776Z",
     "shell.execute_reply": "2022-08-11T04:14:19.757303Z",
     "shell.execute_reply.started": "2022-08-11T04:14:19.542058Z"
    },
    "id": "PuwRrks4-Yjj",
    "jupyter": {
     "outputs_hidden": false
    },
    "outputId": "8585d1cf-e537-40c6-9932-7100a720a75a"
   },
   "outputs": [
    {
     "data": {
      "image/png": "[encoded data removed]",
      "text/plain": [
       "<Figure size 1440x576 with 1 Axes>"
      ]
     },
     "metadata": {
      "needs_background": "light"
     },
     "output_type": "display_data"
    }
   ],
   "source": [
    "\n",
    "cars = df.groupby('NumberOfCars')['FraudFound'].sum()\n",
    "plt.figure(figsize=(20,8))\n",
    "plt.title(\"Cars Involved Vs Frauds\")\n",
    "\n",
    "ax = sns.barplot(x=cars.index,y=cars.values)\n",
    "for p in ax.patches:\n",
    "    ax.annotate(str(format(int(p.get_height()), ',d')), (p.get_x()+0.4, p.get_height()*1.01))\n",
    "plt.xlabel(\"Cars Involved\")\n",
    "plt.ylabel(\"Number of Fraud\");\n",
    "plt.yticks([])\n",
    "plt.show()"
   ]
  },
  {
   "cell_type": "markdown",
   "metadata": {
    "_cell_guid": "33cfa7fe-6c05-4ba8-a896-c0abdceb247b",
    "_uuid": "f21aba03-c779-4bf4-a2bd-839626c756fd",
    "id": "3yfEi0Pr-Yjj"
   },
   "source": [
    "### Frauds are more when only a single vehicle is involved"
   ]
  },
  {
   "cell_type": "code",
   "execution_count": 40,
   "metadata": {
    "_cell_guid": "156a8848-6359-46f3-8e6e-5700eb69565e",
    "_uuid": "022fb4f8-869e-4b99-8d1d-31e452e7c79a",
    "colab": {
     "base_uri": "https://localhost:8080/",
     "height": 487
    },
    "execution": {
     "iopub.execute_input": "2022-08-11T04:17:00.881067Z",
     "iopub.status.busy": "2022-08-11T04:17:00.880252Z",
     "iopub.status.idle": "2022-08-11T04:17:01.093888Z",
     "shell.execute_reply": "2022-08-11T04:17:01.092933Z",
     "shell.execute_reply.started": "2022-08-11T04:17:00.881023Z"
    },
    "id": "Q8MqGHwt-Yjj",
    "jupyter": {
     "outputs_hidden": false
    },
    "outputId": "e34941a8-19cd-43df-e1ec-c4769ac380f2"
   },
   "outputs": [
    {
     "data": {
      "image/png": "[encoded data removed]",
      "text/plain": [
       "<Figure size 720x360 with 1 Axes>"
      ]
     },
     "metadata": {
      "needs_background": "light"
     },
     "output_type": "display_data"
    }
   ],
   "source": [
    "fraud = df[df['FraudFound'] == 1]\n",
    "plt.figure(figsize=(10,5))\n",
    "plt.title(\"Marital Status Vs Frauds\")\n",
    "sns.countplot(x=fraud['MaritalStatus']);\n",
    "plt.xlabel(\"Marital Status\")\n",
    "plt.ylabel(\"Number of Fraud\");"
   ]
  },
  {
   "cell_type": "code",
   "execution_count": 41,
   "metadata": {},
   "outputs": [
    {
     "data": {
      "text/html": [
       "<div>\n",
       "<style scoped>\n",
       "    .dataframe tbody tr th:only-of-type {\n",
       "        vertical-align: middle;\n",
       "    }\n",
       "\n",
       "    .dataframe tbody tr th {\n",
       "        vertical-align: top;\n",
       "    }\n",
       "\n",
       "    .dataframe thead th {\n",
       "        text-align: right;\n",
       "    }\n",
       "</style>\n",
       "<table border=\"1\" class=\"dataframe\">\n",
       "  <thead>\n",
       "    <tr style=\"text-align: right;\">\n",
       "      <th></th>\n",
       "      <th>Month</th>\n",
       "      <th>WeekOfMonth</th>\n",
       "      <th>DayOfWeek</th>\n",
       "      <th>Make</th>\n",
       "      <th>AccidentArea</th>\n",
       "      <th>DayOfWeekClaimed</th>\n",
       "      <th>MonthClaimed</th>\n",
       "      <th>WeekOfMonthClaimed</th>\n",
       "      <th>Sex</th>\n",
       "      <th>MaritalStatus</th>\n",
       "      <th>...</th>\n",
       "      <th>AgeOfPolicyHolder</th>\n",
       "      <th>PoliceReportFiled</th>\n",
       "      <th>WitnessPresent</th>\n",
       "      <th>AgentType</th>\n",
       "      <th>NumberOfSuppliments</th>\n",
       "      <th>AddressChange-Claim</th>\n",
       "      <th>NumberOfCars</th>\n",
       "      <th>Year</th>\n",
       "      <th>BasePolicy</th>\n",
       "      <th>FraudFound</th>\n",
       "    </tr>\n",
       "  </thead>\n",
       "  <tbody>\n",
       "    <tr>\n",
       "      <th>0</th>\n",
       "      <td>Dec</td>\n",
       "      <td>5</td>\n",
       "      <td>Wednesday</td>\n",
       "      <td>Honda</td>\n",
       "      <td>Urban</td>\n",
       "      <td>Tuesday</td>\n",
       "      <td>Jan</td>\n",
       "      <td>1</td>\n",
       "      <td>Female</td>\n",
       "      <td>Single</td>\n",
       "      <td>...</td>\n",
       "      <td>26 to 30</td>\n",
       "      <td>No</td>\n",
       "      <td>No</td>\n",
       "      <td>External</td>\n",
       "      <td>none</td>\n",
       "      <td>1 year</td>\n",
       "      <td>3 to 4</td>\n",
       "      <td>1994</td>\n",
       "      <td>Liability</td>\n",
       "      <td>0</td>\n",
       "    </tr>\n",
       "    <tr>\n",
       "      <th>1</th>\n",
       "      <td>Jan</td>\n",
       "      <td>3</td>\n",
       "      <td>Wednesday</td>\n",
       "      <td>Honda</td>\n",
       "      <td>Urban</td>\n",
       "      <td>Monday</td>\n",
       "      <td>Jan</td>\n",
       "      <td>4</td>\n",
       "      <td>Male</td>\n",
       "      <td>Single</td>\n",
       "      <td>...</td>\n",
       "      <td>31 to 35</td>\n",
       "      <td>Yes</td>\n",
       "      <td>No</td>\n",
       "      <td>External</td>\n",
       "      <td>none</td>\n",
       "      <td>no change</td>\n",
       "      <td>1 vehicle</td>\n",
       "      <td>1994</td>\n",
       "      <td>Collision</td>\n",
       "      <td>0</td>\n",
       "    </tr>\n",
       "    <tr>\n",
       "      <th>2</th>\n",
       "      <td>Oct</td>\n",
       "      <td>5</td>\n",
       "      <td>Friday</td>\n",
       "      <td>Honda</td>\n",
       "      <td>Urban</td>\n",
       "      <td>Thursday</td>\n",
       "      <td>Nov</td>\n",
       "      <td>2</td>\n",
       "      <td>Male</td>\n",
       "      <td>Married</td>\n",
       "      <td>...</td>\n",
       "      <td>41 to 50</td>\n",
       "      <td>No</td>\n",
       "      <td>No</td>\n",
       "      <td>External</td>\n",
       "      <td>none</td>\n",
       "      <td>no change</td>\n",
       "      <td>1 vehicle</td>\n",
       "      <td>1994</td>\n",
       "      <td>Collision</td>\n",
       "      <td>0</td>\n",
       "    </tr>\n",
       "    <tr>\n",
       "      <th>3</th>\n",
       "      <td>Jun</td>\n",
       "      <td>2</td>\n",
       "      <td>Saturday</td>\n",
       "      <td>Toyota</td>\n",
       "      <td>Rural</td>\n",
       "      <td>Friday</td>\n",
       "      <td>Jul</td>\n",
       "      <td>1</td>\n",
       "      <td>Male</td>\n",
       "      <td>Married</td>\n",
       "      <td>...</td>\n",
       "      <td>51 to 65</td>\n",
       "      <td>Yes</td>\n",
       "      <td>No</td>\n",
       "      <td>External</td>\n",
       "      <td>more than 5</td>\n",
       "      <td>no change</td>\n",
       "      <td>1 vehicle</td>\n",
       "      <td>1994</td>\n",
       "      <td>Liability</td>\n",
       "      <td>0</td>\n",
       "    </tr>\n",
       "    <tr>\n",
       "      <th>4</th>\n",
       "      <td>Jan</td>\n",
       "      <td>5</td>\n",
       "      <td>Monday</td>\n",
       "      <td>Honda</td>\n",
       "      <td>Urban</td>\n",
       "      <td>Tuesday</td>\n",
       "      <td>Feb</td>\n",
       "      <td>2</td>\n",
       "      <td>Female</td>\n",
       "      <td>Single</td>\n",
       "      <td>...</td>\n",
       "      <td>31 to 35</td>\n",
       "      <td>No</td>\n",
       "      <td>No</td>\n",
       "      <td>External</td>\n",
       "      <td>none</td>\n",
       "      <td>no change</td>\n",
       "      <td>1 vehicle</td>\n",
       "      <td>1994</td>\n",
       "      <td>Collision</td>\n",
       "      <td>0</td>\n",
       "    </tr>\n",
       "    <tr>\n",
       "      <th>...</th>\n",
       "      <td>...</td>\n",
       "      <td>...</td>\n",
       "      <td>...</td>\n",
       "      <td>...</td>\n",
       "      <td>...</td>\n",
       "      <td>...</td>\n",
       "      <td>...</td>\n",
       "      <td>...</td>\n",
       "      <td>...</td>\n",
       "      <td>...</td>\n",
       "      <td>...</td>\n",
       "      <td>...</td>\n",
       "      <td>...</td>\n",
       "      <td>...</td>\n",
       "      <td>...</td>\n",
       "      <td>...</td>\n",
       "      <td>...</td>\n",
       "      <td>...</td>\n",
       "      <td>...</td>\n",
       "      <td>...</td>\n",
       "      <td>...</td>\n",
       "    </tr>\n",
       "    <tr>\n",
       "      <th>15415</th>\n",
       "      <td>Nov</td>\n",
       "      <td>4</td>\n",
       "      <td>Friday</td>\n",
       "      <td>Toyota</td>\n",
       "      <td>Urban</td>\n",
       "      <td>Tuesday</td>\n",
       "      <td>Nov</td>\n",
       "      <td>5</td>\n",
       "      <td>Male</td>\n",
       "      <td>Married</td>\n",
       "      <td>...</td>\n",
       "      <td>31 to 35</td>\n",
       "      <td>No</td>\n",
       "      <td>No</td>\n",
       "      <td>External</td>\n",
       "      <td>none</td>\n",
       "      <td>no change</td>\n",
       "      <td>1 vehicle</td>\n",
       "      <td>1996</td>\n",
       "      <td>Collision</td>\n",
       "      <td>1</td>\n",
       "    </tr>\n",
       "    <tr>\n",
       "      <th>15416</th>\n",
       "      <td>Nov</td>\n",
       "      <td>5</td>\n",
       "      <td>Thursday</td>\n",
       "      <td>Pontiac</td>\n",
       "      <td>Urban</td>\n",
       "      <td>Friday</td>\n",
       "      <td>Dec</td>\n",
       "      <td>1</td>\n",
       "      <td>Male</td>\n",
       "      <td>Married</td>\n",
       "      <td>...</td>\n",
       "      <td>31 to 35</td>\n",
       "      <td>No</td>\n",
       "      <td>No</td>\n",
       "      <td>External</td>\n",
       "      <td>more than 5</td>\n",
       "      <td>no change</td>\n",
       "      <td>3 to 4</td>\n",
       "      <td>1996</td>\n",
       "      <td>Liability</td>\n",
       "      <td>0</td>\n",
       "    </tr>\n",
       "    <tr>\n",
       "      <th>15417</th>\n",
       "      <td>Nov</td>\n",
       "      <td>5</td>\n",
       "      <td>Thursday</td>\n",
       "      <td>Toyota</td>\n",
       "      <td>Rural</td>\n",
       "      <td>Friday</td>\n",
       "      <td>Dec</td>\n",
       "      <td>1</td>\n",
       "      <td>Male</td>\n",
       "      <td>Single</td>\n",
       "      <td>...</td>\n",
       "      <td>26 to 30</td>\n",
       "      <td>No</td>\n",
       "      <td>No</td>\n",
       "      <td>External</td>\n",
       "      <td>1 to 2</td>\n",
       "      <td>no change</td>\n",
       "      <td>1 vehicle</td>\n",
       "      <td>1996</td>\n",
       "      <td>Collision</td>\n",
       "      <td>1</td>\n",
       "    </tr>\n",
       "    <tr>\n",
       "      <th>15418</th>\n",
       "      <td>Dec</td>\n",
       "      <td>1</td>\n",
       "      <td>Monday</td>\n",
       "      <td>Toyota</td>\n",
       "      <td>Urban</td>\n",
       "      <td>Thursday</td>\n",
       "      <td>Dec</td>\n",
       "      <td>2</td>\n",
       "      <td>Female</td>\n",
       "      <td>Married</td>\n",
       "      <td>...</td>\n",
       "      <td>31 to 35</td>\n",
       "      <td>No</td>\n",
       "      <td>No</td>\n",
       "      <td>External</td>\n",
       "      <td>more than 5</td>\n",
       "      <td>no change</td>\n",
       "      <td>1 vehicle</td>\n",
       "      <td>1996</td>\n",
       "      <td>All Perils</td>\n",
       "      <td>0</td>\n",
       "    </tr>\n",
       "    <tr>\n",
       "      <th>15419</th>\n",
       "      <td>Dec</td>\n",
       "      <td>2</td>\n",
       "      <td>Wednesday</td>\n",
       "      <td>Toyota</td>\n",
       "      <td>Urban</td>\n",
       "      <td>Thursday</td>\n",
       "      <td>Dec</td>\n",
       "      <td>3</td>\n",
       "      <td>Male</td>\n",
       "      <td>Single</td>\n",
       "      <td>...</td>\n",
       "      <td>26 to 30</td>\n",
       "      <td>No</td>\n",
       "      <td>No</td>\n",
       "      <td>External</td>\n",
       "      <td>1 to 2</td>\n",
       "      <td>no change</td>\n",
       "      <td>1 vehicle</td>\n",
       "      <td>1996</td>\n",
       "      <td>Collision</td>\n",
       "      <td>1</td>\n",
       "    </tr>\n",
       "  </tbody>\n",
       "</table>\n",
       "<p>15420 rows × 33 columns</p>\n",
       "</div>"
      ],
      "text/plain": [
       "      Month  WeekOfMonth  DayOfWeek     Make AccidentArea DayOfWeekClaimed  \\\n",
       "0       Dec            5  Wednesday    Honda        Urban          Tuesday   \n",
       "1       Jan            3  Wednesday    Honda        Urban           Monday   \n",
       "2       Oct            5     Friday    Honda        Urban         Thursday   \n",
       "3       Jun            2   Saturday   Toyota        Rural           Friday   \n",
       "4       Jan            5     Monday    Honda        Urban          Tuesday   \n",
       "...     ...          ...        ...      ...          ...              ...   \n",
       "15415   Nov            4     Friday   Toyota        Urban          Tuesday   \n",
       "15416   Nov            5   Thursday  Pontiac        Urban           Friday   \n",
       "15417   Nov            5   Thursday   Toyota        Rural           Friday   \n",
       "15418   Dec            1     Monday   Toyota        Urban         Thursday   \n",
       "15419   Dec            2  Wednesday   Toyota        Urban         Thursday   \n",
       "\n",
       "      MonthClaimed  WeekOfMonthClaimed     Sex MaritalStatus  ...  \\\n",
       "0              Jan                   1  Female        Single  ...   \n",
       "1              Jan                   4    Male        Single  ...   \n",
       "2              Nov                   2    Male       Married  ...   \n",
       "3              Jul                   1    Male       Married  ...   \n",
       "4              Feb                   2  Female        Single  ...   \n",
       "...            ...                 ...     ...           ...  ...   \n",
       "15415          Nov                   5    Male       Married  ...   \n",
       "15416          Dec                   1    Male       Married  ...   \n",
       "15417          Dec                   1    Male        Single  ...   \n",
       "15418          Dec                   2  Female       Married  ...   \n",
       "15419          Dec                   3    Male        Single  ...   \n",
       "\n",
       "       AgeOfPolicyHolder PoliceReportFiled WitnessPresent AgentType  \\\n",
       "0               26 to 30                No             No  External   \n",
       "1               31 to 35               Yes             No  External   \n",
       "2               41 to 50                No             No  External   \n",
       "3               51 to 65               Yes             No  External   \n",
       "4               31 to 35                No             No  External   \n",
       "...                  ...               ...            ...       ...   \n",
       "15415           31 to 35                No             No  External   \n",
       "15416           31 to 35                No             No  External   \n",
       "15417           26 to 30                No             No  External   \n",
       "15418           31 to 35                No             No  External   \n",
       "15419           26 to 30                No             No  External   \n",
       "\n",
       "      NumberOfSuppliments  AddressChange-Claim  NumberOfCars  Year  \\\n",
       "0                    none               1 year        3 to 4  1994   \n",
       "1                    none            no change     1 vehicle  1994   \n",
       "2                    none            no change     1 vehicle  1994   \n",
       "3             more than 5            no change     1 vehicle  1994   \n",
       "4                    none            no change     1 vehicle  1994   \n",
       "...                   ...                  ...           ...   ...   \n",
       "15415                none            no change     1 vehicle  1996   \n",
       "15416         more than 5            no change        3 to 4  1996   \n",
       "15417              1 to 2            no change     1 vehicle  1996   \n",
       "15418         more than 5            no change     1 vehicle  1996   \n",
       "15419              1 to 2            no change     1 vehicle  1996   \n",
       "\n",
       "       BasePolicy FraudFound  \n",
       "0       Liability          0  \n",
       "1       Collision          0  \n",
       "2       Collision          0  \n",
       "3       Liability          0  \n",
       "4       Collision          0  \n",
       "...           ...        ...  \n",
       "15415   Collision          1  \n",
       "15416   Liability          0  \n",
       "15417   Collision          1  \n",
       "15418  All Perils          0  \n",
       "15419   Collision          1  \n",
       "\n",
       "[15420 rows x 33 columns]"
      ]
     },
     "execution_count": 41,
     "metadata": {},
     "output_type": "execute_result"
    }
   ],
   "source": [
    "df"
   ]
  },
  {
   "cell_type": "code",
   "execution_count": 42,
   "metadata": {},
   "outputs": [
    {
     "data": {
      "text/plain": [
       "Month                                 Dec\n",
       "WeekOfMonth                             5\n",
       "DayOfWeek                       Wednesday\n",
       "Make                                Honda\n",
       "AccidentArea                        Urban\n",
       "DayOfWeekClaimed                  Tuesday\n",
       "MonthClaimed                          Jan\n",
       "WeekOfMonthClaimed                      1\n",
       "Sex                                Female\n",
       "MaritalStatus                      Single\n",
       "Age                                    21\n",
       "Fault                       Policy Holder\n",
       "PolicyType              Sport - Liability\n",
       "VehicleCategory                     Sport\n",
       "VehiclePrice             more than 69,000\n",
       "PolicyNumber                            1\n",
       "RepNumber                              12\n",
       "Deductible                            300\n",
       "DriverRating                            1\n",
       "Days:Policy-Accident         more than 30\n",
       "Days:Policy-Claim            more than 30\n",
       "PastNumberOfClaims                   none\n",
       "AgeOfVehicle                      3 years\n",
       "AgeOfPolicyHolder                26 to 30\n",
       "PoliceReportFiled                      No\n",
       "WitnessPresent                         No\n",
       "AgentType                        External\n",
       "NumberOfSuppliments                  none\n",
       "AddressChange-Claim                1 year\n",
       "NumberOfCars                       3 to 4\n",
       "Year                                 1994\n",
       "BasePolicy                      Liability\n",
       "FraudFound                              0\n",
       "Name: 0, dtype: object"
      ]
     },
     "execution_count": 42,
     "metadata": {},
     "output_type": "execute_result"
    }
   ],
   "source": [
    "df.iloc[0]"
   ]
  },
  {
   "cell_type": "markdown",
   "metadata": {
    "_cell_guid": "16e734fc-37c5-4fa6-a587-4346dfbad362",
    "_uuid": "c6d20a94-50d8-410f-afe2-6b97cf231b99",
    "id": "G-o3tjN9-Yjj"
   },
   "source": [
    "### Married are involved in more frauds"
   ]
  },
  {
   "cell_type": "code",
   "execution_count": 43,
   "metadata": {
    "_cell_guid": "356a9dc6-3188-4185-b440-eb0ffd06e4e6",
    "_uuid": "aafeabd5-34ae-41b1-b15d-2d383aabbe95",
    "execution": {
     "iopub.execute_input": "2022-08-11T04:17:04.771769Z",
     "iopub.status.busy": "2022-08-11T04:17:04.771102Z",
     "iopub.status.idle": "2022-08-11T04:17:04.918777Z",
     "shell.execute_reply": "2022-08-11T04:17:04.917419Z",
     "shell.execute_reply.started": "2022-08-11T04:17:04.771713Z"
    },
    "id": "oekceCk2-Yjj",
    "jupyter": {
     "outputs_hidden": false
    }
   },
   "outputs": [],
   "source": [
    "le = LabelEncoder()\n",
    "\n",
    "cols = df.select_dtypes('O').columns\n",
    "\n",
    "df[cols]= df[cols].apply(le.fit_transform)\n",
    "df['Year'] = le.fit_transform(df.Year)"
   ]
  },
  {
   "cell_type": "code",
   "execution_count": 44,
   "metadata": {},
   "outputs": [],
   "source": [
    "import joblib"
   ]
  },
  {
   "cell_type": "code",
   "execution_count": 45,
   "metadata": {},
   "outputs": [
    {
     "data": {
      "text/plain": [
       "['label_encoder.joblib']"
      ]
     },
     "execution_count": 45,
     "metadata": {},
     "output_type": "execute_result"
    }
   ],
   "source": [
    "joblib.dump(le, \"label_encoder.joblib\")"
   ]
  },
  {
   "cell_type": "code",
   "execution_count": 46,
   "metadata": {},
   "outputs": [
    {
     "data": {
      "text/html": [
       "<div>\n",
       "<style scoped>\n",
       "    .dataframe tbody tr th:only-of-type {\n",
       "        vertical-align: middle;\n",
       "    }\n",
       "\n",
       "    .dataframe tbody tr th {\n",
       "        vertical-align: top;\n",
       "    }\n",
       "\n",
       "    .dataframe thead th {\n",
       "        text-align: right;\n",
       "    }\n",
       "</style>\n",
       "<table border=\"1\" class=\"dataframe\">\n",
       "  <thead>\n",
       "    <tr style=\"text-align: right;\">\n",
       "      <th></th>\n",
       "      <th>Month</th>\n",
       "      <th>WeekOfMonth</th>\n",
       "      <th>DayOfWeek</th>\n",
       "      <th>Make</th>\n",
       "      <th>AccidentArea</th>\n",
       "      <th>DayOfWeekClaimed</th>\n",
       "      <th>MonthClaimed</th>\n",
       "      <th>WeekOfMonthClaimed</th>\n",
       "      <th>Sex</th>\n",
       "      <th>MaritalStatus</th>\n",
       "      <th>...</th>\n",
       "      <th>AgeOfPolicyHolder</th>\n",
       "      <th>PoliceReportFiled</th>\n",
       "      <th>WitnessPresent</th>\n",
       "      <th>AgentType</th>\n",
       "      <th>NumberOfSuppliments</th>\n",
       "      <th>AddressChange-Claim</th>\n",
       "      <th>NumberOfCars</th>\n",
       "      <th>Year</th>\n",
       "      <th>BasePolicy</th>\n",
       "      <th>FraudFound</th>\n",
       "    </tr>\n",
       "  </thead>\n",
       "  <tbody>\n",
       "    <tr>\n",
       "      <th>0</th>\n",
       "      <td>2</td>\n",
       "      <td>5</td>\n",
       "      <td>6</td>\n",
       "      <td>6</td>\n",
       "      <td>1</td>\n",
       "      <td>6</td>\n",
       "      <td>5</td>\n",
       "      <td>1</td>\n",
       "      <td>0</td>\n",
       "      <td>2</td>\n",
       "      <td>...</td>\n",
       "      <td>3</td>\n",
       "      <td>0</td>\n",
       "      <td>0</td>\n",
       "      <td>0</td>\n",
       "      <td>3</td>\n",
       "      <td>0</td>\n",
       "      <td>2</td>\n",
       "      <td>0</td>\n",
       "      <td>2</td>\n",
       "      <td>0</td>\n",
       "    </tr>\n",
       "    <tr>\n",
       "      <th>1</th>\n",
       "      <td>4</td>\n",
       "      <td>3</td>\n",
       "      <td>6</td>\n",
       "      <td>6</td>\n",
       "      <td>1</td>\n",
       "      <td>2</td>\n",
       "      <td>5</td>\n",
       "      <td>4</td>\n",
       "      <td>1</td>\n",
       "      <td>2</td>\n",
       "      <td>...</td>\n",
       "      <td>4</td>\n",
       "      <td>1</td>\n",
       "      <td>0</td>\n",
       "      <td>0</td>\n",
       "      <td>3</td>\n",
       "      <td>3</td>\n",
       "      <td>0</td>\n",
       "      <td>0</td>\n",
       "      <td>1</td>\n",
       "      <td>0</td>\n",
       "    </tr>\n",
       "    <tr>\n",
       "      <th>2</th>\n",
       "      <td>10</td>\n",
       "      <td>5</td>\n",
       "      <td>0</td>\n",
       "      <td>6</td>\n",
       "      <td>1</td>\n",
       "      <td>5</td>\n",
       "      <td>10</td>\n",
       "      <td>2</td>\n",
       "      <td>1</td>\n",
       "      <td>1</td>\n",
       "      <td>...</td>\n",
       "      <td>6</td>\n",
       "      <td>0</td>\n",
       "      <td>0</td>\n",
       "      <td>0</td>\n",
       "      <td>3</td>\n",
       "      <td>3</td>\n",
       "      <td>0</td>\n",
       "      <td>0</td>\n",
       "      <td>1</td>\n",
       "      <td>0</td>\n",
       "    </tr>\n",
       "    <tr>\n",
       "      <th>3</th>\n",
       "      <td>6</td>\n",
       "      <td>2</td>\n",
       "      <td>2</td>\n",
       "      <td>17</td>\n",
       "      <td>0</td>\n",
       "      <td>1</td>\n",
       "      <td>6</td>\n",
       "      <td>1</td>\n",
       "      <td>1</td>\n",
       "      <td>1</td>\n",
       "      <td>...</td>\n",
       "      <td>7</td>\n",
       "      <td>1</td>\n",
       "      <td>0</td>\n",
       "      <td>0</td>\n",
       "      <td>2</td>\n",
       "      <td>3</td>\n",
       "      <td>0</td>\n",
       "      <td>0</td>\n",
       "      <td>2</td>\n",
       "      <td>0</td>\n",
       "    </tr>\n",
       "    <tr>\n",
       "      <th>4</th>\n",
       "      <td>4</td>\n",
       "      <td>5</td>\n",
       "      <td>1</td>\n",
       "      <td>6</td>\n",
       "      <td>1</td>\n",
       "      <td>6</td>\n",
       "      <td>4</td>\n",
       "      <td>2</td>\n",
       "      <td>0</td>\n",
       "      <td>2</td>\n",
       "      <td>...</td>\n",
       "      <td>4</td>\n",
       "      <td>0</td>\n",
       "      <td>0</td>\n",
       "      <td>0</td>\n",
       "      <td>3</td>\n",
       "      <td>3</td>\n",
       "      <td>0</td>\n",
       "      <td>0</td>\n",
       "      <td>1</td>\n",
       "      <td>0</td>\n",
       "    </tr>\n",
       "    <tr>\n",
       "      <th>...</th>\n",
       "      <td>...</td>\n",
       "      <td>...</td>\n",
       "      <td>...</td>\n",
       "      <td>...</td>\n",
       "      <td>...</td>\n",
       "      <td>...</td>\n",
       "      <td>...</td>\n",
       "      <td>...</td>\n",
       "      <td>...</td>\n",
       "      <td>...</td>\n",
       "      <td>...</td>\n",
       "      <td>...</td>\n",
       "      <td>...</td>\n",
       "      <td>...</td>\n",
       "      <td>...</td>\n",
       "      <td>...</td>\n",
       "      <td>...</td>\n",
       "      <td>...</td>\n",
       "      <td>...</td>\n",
       "      <td>...</td>\n",
       "      <td>...</td>\n",
       "    </tr>\n",
       "    <tr>\n",
       "      <th>15415</th>\n",
       "      <td>9</td>\n",
       "      <td>4</td>\n",
       "      <td>0</td>\n",
       "      <td>17</td>\n",
       "      <td>1</td>\n",
       "      <td>6</td>\n",
       "      <td>10</td>\n",
       "      <td>5</td>\n",
       "      <td>1</td>\n",
       "      <td>1</td>\n",
       "      <td>...</td>\n",
       "      <td>4</td>\n",
       "      <td>0</td>\n",
       "      <td>0</td>\n",
       "      <td>0</td>\n",
       "      <td>3</td>\n",
       "      <td>3</td>\n",
       "      <td>0</td>\n",
       "      <td>2</td>\n",
       "      <td>1</td>\n",
       "      <td>1</td>\n",
       "    </tr>\n",
       "    <tr>\n",
       "      <th>15416</th>\n",
       "      <td>9</td>\n",
       "      <td>5</td>\n",
       "      <td>4</td>\n",
       "      <td>13</td>\n",
       "      <td>1</td>\n",
       "      <td>1</td>\n",
       "      <td>3</td>\n",
       "      <td>1</td>\n",
       "      <td>1</td>\n",
       "      <td>1</td>\n",
       "      <td>...</td>\n",
       "      <td>4</td>\n",
       "      <td>0</td>\n",
       "      <td>0</td>\n",
       "      <td>0</td>\n",
       "      <td>2</td>\n",
       "      <td>3</td>\n",
       "      <td>2</td>\n",
       "      <td>2</td>\n",
       "      <td>2</td>\n",
       "      <td>0</td>\n",
       "    </tr>\n",
       "    <tr>\n",
       "      <th>15417</th>\n",
       "      <td>9</td>\n",
       "      <td>5</td>\n",
       "      <td>4</td>\n",
       "      <td>17</td>\n",
       "      <td>0</td>\n",
       "      <td>1</td>\n",
       "      <td>3</td>\n",
       "      <td>1</td>\n",
       "      <td>1</td>\n",
       "      <td>2</td>\n",
       "      <td>...</td>\n",
       "      <td>3</td>\n",
       "      <td>0</td>\n",
       "      <td>0</td>\n",
       "      <td>0</td>\n",
       "      <td>0</td>\n",
       "      <td>3</td>\n",
       "      <td>0</td>\n",
       "      <td>2</td>\n",
       "      <td>1</td>\n",
       "      <td>1</td>\n",
       "    </tr>\n",
       "    <tr>\n",
       "      <th>15418</th>\n",
       "      <td>2</td>\n",
       "      <td>1</td>\n",
       "      <td>1</td>\n",
       "      <td>17</td>\n",
       "      <td>1</td>\n",
       "      <td>5</td>\n",
       "      <td>3</td>\n",
       "      <td>2</td>\n",
       "      <td>0</td>\n",
       "      <td>1</td>\n",
       "      <td>...</td>\n",
       "      <td>4</td>\n",
       "      <td>0</td>\n",
       "      <td>0</td>\n",
       "      <td>0</td>\n",
       "      <td>2</td>\n",
       "      <td>3</td>\n",
       "      <td>0</td>\n",
       "      <td>2</td>\n",
       "      <td>0</td>\n",
       "      <td>0</td>\n",
       "    </tr>\n",
       "    <tr>\n",
       "      <th>15419</th>\n",
       "      <td>2</td>\n",
       "      <td>2</td>\n",
       "      <td>6</td>\n",
       "      <td>17</td>\n",
       "      <td>1</td>\n",
       "      <td>5</td>\n",
       "      <td>3</td>\n",
       "      <td>3</td>\n",
       "      <td>1</td>\n",
       "      <td>2</td>\n",
       "      <td>...</td>\n",
       "      <td>3</td>\n",
       "      <td>0</td>\n",
       "      <td>0</td>\n",
       "      <td>0</td>\n",
       "      <td>0</td>\n",
       "      <td>3</td>\n",
       "      <td>0</td>\n",
       "      <td>2</td>\n",
       "      <td>1</td>\n",
       "      <td>1</td>\n",
       "    </tr>\n",
       "  </tbody>\n",
       "</table>\n",
       "<p>15420 rows × 33 columns</p>\n",
       "</div>"
      ],
      "text/plain": [
       "       Month  WeekOfMonth  DayOfWeek  Make  AccidentArea  DayOfWeekClaimed  \\\n",
       "0          2            5          6     6             1                 6   \n",
       "1          4            3          6     6             1                 2   \n",
       "2         10            5          0     6             1                 5   \n",
       "3          6            2          2    17             0                 1   \n",
       "4          4            5          1     6             1                 6   \n",
       "...      ...          ...        ...   ...           ...               ...   \n",
       "15415      9            4          0    17             1                 6   \n",
       "15416      9            5          4    13             1                 1   \n",
       "15417      9            5          4    17             0                 1   \n",
       "15418      2            1          1    17             1                 5   \n",
       "15419      2            2          6    17             1                 5   \n",
       "\n",
       "       MonthClaimed  WeekOfMonthClaimed  Sex  MaritalStatus  ...  \\\n",
       "0                 5                   1    0              2  ...   \n",
       "1                 5                   4    1              2  ...   \n",
       "2                10                   2    1              1  ...   \n",
       "3                 6                   1    1              1  ...   \n",
       "4                 4                   2    0              2  ...   \n",
       "...             ...                 ...  ...            ...  ...   \n",
       "15415            10                   5    1              1  ...   \n",
       "15416             3                   1    1              1  ...   \n",
       "15417             3                   1    1              2  ...   \n",
       "15418             3                   2    0              1  ...   \n",
       "15419             3                   3    1              2  ...   \n",
       "\n",
       "       AgeOfPolicyHolder  PoliceReportFiled  WitnessPresent  AgentType  \\\n",
       "0                      3                  0               0          0   \n",
       "1                      4                  1               0          0   \n",
       "2                      6                  0               0          0   \n",
       "3                      7                  1               0          0   \n",
       "4                      4                  0               0          0   \n",
       "...                  ...                ...             ...        ...   \n",
       "15415                  4                  0               0          0   \n",
       "15416                  4                  0               0          0   \n",
       "15417                  3                  0               0          0   \n",
       "15418                  4                  0               0          0   \n",
       "15419                  3                  0               0          0   \n",
       "\n",
       "       NumberOfSuppliments  AddressChange-Claim  NumberOfCars  Year  \\\n",
       "0                        3                    0             2     0   \n",
       "1                        3                    3             0     0   \n",
       "2                        3                    3             0     0   \n",
       "3                        2                    3             0     0   \n",
       "4                        3                    3             0     0   \n",
       "...                    ...                  ...           ...   ...   \n",
       "15415                    3                    3             0     2   \n",
       "15416                    2                    3             2     2   \n",
       "15417                    0                    3             0     2   \n",
       "15418                    2                    3             0     2   \n",
       "15419                    0                    3             0     2   \n",
       "\n",
       "       BasePolicy  FraudFound  \n",
       "0               2           0  \n",
       "1               1           0  \n",
       "2               1           0  \n",
       "3               2           0  \n",
       "4               1           0  \n",
       "...           ...         ...  \n",
       "15415           1           1  \n",
       "15416           2           0  \n",
       "15417           1           1  \n",
       "15418           0           0  \n",
       "15419           1           1  \n",
       "\n",
       "[15420 rows x 33 columns]"
      ]
     },
     "execution_count": 46,
     "metadata": {},
     "output_type": "execute_result"
    }
   ],
   "source": [
    "df"
   ]
  },
  {
   "cell_type": "code",
   "execution_count": null,
   "metadata": {},
   "outputs": [],
   "source": []
  },
  {
   "cell_type": "code",
   "execution_count": 47,
   "metadata": {
    "_cell_guid": "e67caf35-81ac-4ca2-9bad-737a4d798599",
    "_uuid": "3ed9f6f5-e524-4fd9-bfa0-f6df57f0194e",
    "colab": {
     "base_uri": "https://localhost:8080/",
     "height": 792
    },
    "execution": {
     "iopub.execute_input": "2022-08-11T04:17:07.086386Z",
     "iopub.status.busy": "2022-08-11T04:17:07.085943Z",
     "iopub.status.idle": "2022-08-11T04:17:08.19649Z",
     "shell.execute_reply": "2022-08-11T04:17:08.195234Z",
     "shell.execute_reply.started": "2022-08-11T04:17:07.086348Z"
    },
    "id": "8KroGCPi-Yjj",
    "jupyter": {
     "outputs_hidden": false
    },
    "outputId": "00ff0d7b-4e03-46c8-8c1b-78b7bac12beb"
   },
   "outputs": [
    {
     "data": {
      "image/png": "[encoded data removed]",
      "text/plain": [
       "<Figure size 1440x720 with 2 Axes>"
      ]
     },
     "metadata": {
      "needs_background": "light"
     },
     "output_type": "display_data"
    }
   ],
   "source": [
    "plt.figure(figsize=(20,10))\n",
    "sns.heatmap(df.corr(),cmap=\"YlGnBu\")\n",
    "plt.title(\"Correlation Heatmap\")\n",
    "plt.show()"
   ]
  },
  {
   "cell_type": "markdown",
   "metadata": {
    "_cell_guid": "56ff9d30-087f-4b27-b51f-51d42e66222a",
    "_uuid": "8122e9b3-3e80-41da-b422-2df0b1890a7d",
    "id": "leOY9Wm--Yjj"
   },
   "source": [
    "### Can see some strong correlation between some features and we can ignore/remove them"
   ]
  },
  {
   "cell_type": "code",
   "execution_count": 48,
   "metadata": {
    "_cell_guid": "6a18e4d4-19ca-43bf-8cac-a425d895a716",
    "_uuid": "f03f8133-d41e-467c-a961-8934cf5e679d",
    "execution": {
     "iopub.execute_input": "2022-08-11T04:20:17.109195Z",
     "iopub.status.busy": "2022-08-11T04:20:17.10865Z",
     "iopub.status.idle": "2022-08-11T04:20:17.117408Z",
     "shell.execute_reply": "2022-08-11T04:20:17.116283Z",
     "shell.execute_reply.started": "2022-08-11T04:20:17.109158Z"
    },
    "id": "vgLhpxqC-Yjj",
    "jupyter": {
     "outputs_hidden": false
    }
   },
   "outputs": [],
   "source": [
    "df_new = df[['Make', 'AccidentArea','Sex',\\\n",
    "       'MaritalStatus','Fault', 'VehicleCategory',\\\n",
    "       'VehiclePrice', 'Year',\\\n",
    "       'DriverRating', 'Days:Policy-Accident', 'Days:Policy-Claim',\\\n",
    "       'PastNumberOfClaims', 'AgeOfVehicle', 'AgeOfPolicyHolder',\\\n",
    "       'PoliceReportFiled', 'WitnessPresent', 'AgentType',\\\n",
    "       'NumberOfSuppliments', 'AddressChange-Claim', 'NumberOfCars',\\\n",
    "       'BasePolicy', 'FraudFound']]"
   ]
  },
  {
   "cell_type": "code",
   "execution_count": 49,
   "metadata": {
    "_cell_guid": "bcfc70f1-af75-46d0-865b-bab9b6cb93d5",
    "_uuid": "c112fd07-ce28-4127-8b5a-ebbf4e4444af",
    "colab": {
     "base_uri": "https://localhost:8080/",
     "height": 792
    },
    "execution": {
     "iopub.execute_input": "2022-08-11T04:20:19.828786Z",
     "iopub.status.busy": "2022-08-11T04:20:19.828385Z",
     "iopub.status.idle": "2022-08-11T04:20:20.525186Z",
     "shell.execute_reply": "2022-08-11T04:20:20.524043Z",
     "shell.execute_reply.started": "2022-08-11T04:20:19.828752Z"
    },
    "id": "t7jsiGD--Yjk",
    "jupyter": {
     "outputs_hidden": false
    },
    "outputId": "df3cacbc-cc9d-498d-d699-7b04653dbf03"
   },
   "outputs": [
    {
     "data": {
      "image/png": "[encoded data removed]",
      "text/plain": [
       "<Figure size 1440x720 with 2 Axes>"
      ]
     },
     "metadata": {
      "needs_background": "light"
     },
     "output_type": "display_data"
    }
   ],
   "source": [
    "plt.figure(figsize=(20,10))\n",
    "sns.heatmap(df_new.corr(),cmap=\"YlGnBu\")\n",
    "plt.title(\"New Correlation Heatmap\")\n",
    "plt.show()"
   ]
  },
  {
   "cell_type": "markdown",
   "metadata": {
    "_cell_guid": "a856351f-c503-41c4-8390-6ef440606d3c",
    "_uuid": "1071a4e5-1b1d-455e-854e-ff47e2a71074",
    "id": "GG1Ne67l-Yjk"
   },
   "source": [
    "### There still appears some correlation between BasePolicy and VehicleCategory but will leave it for now"
   ]
  },
  {
   "cell_type": "code",
   "execution_count": 50,
   "metadata": {
    "_cell_guid": "9ded3ad6-5d46-4f03-a8ed-160b5741d145",
    "_uuid": "7c38753c-2d84-45a1-9da9-49e5e459660d",
    "execution": {
     "iopub.execute_input": "2022-08-11T04:20:26.274398Z",
     "iopub.status.busy": "2022-08-11T04:20:26.273951Z",
     "iopub.status.idle": "2022-08-11T04:20:26.281198Z",
     "shell.execute_reply": "2022-08-11T04:20:26.280233Z",
     "shell.execute_reply.started": "2022-08-11T04:20:26.27436Z"
    },
    "id": "7VH_Tw1l-Yjk",
    "jupyter": {
     "outputs_hidden": false
    }
   },
   "outputs": [],
   "source": [
    "def conf_matrix(y_test,y_pred):\n",
    "    con_matrix = confusion_matrix(y_test,y_pred)\n",
    "    con_matrix = pd.DataFrame(con_matrix,range(2),range(2))\n",
    "\n",
    "    plt.figure(figsize=(5,5))\n",
    "    plt.title(\"Confusion Matrix\")\n",
    "    sns.heatmap(con_matrix,annot=True,cbar=False,fmt='g')"
   ]
  },
  {
   "cell_type": "markdown",
   "metadata": {
    "_cell_guid": "5f964c67-3deb-4173-a200-6c8454cb6de8",
    "_uuid": "c45e4132-5f59-4a9f-8a32-dd723027e0c1",
    "id": "beMqKZEo-Yjk"
   },
   "source": [
    "# Data Modeling"
   ]
  },
  {
   "cell_type": "code",
   "execution_count": 51,
   "metadata": {
    "_cell_guid": "00427009-1daa-4aef-a48a-803a5338e644",
    "_uuid": "1286de3c-1aba-422d-b31e-c06b730a2ad2",
    "colab": {
     "base_uri": "https://localhost:8080/"
    },
    "execution": {
     "iopub.execute_input": "2022-08-11T04:20:37.638698Z",
     "iopub.status.busy": "2022-08-11T04:20:37.638246Z",
     "iopub.status.idle": "2022-08-11T04:20:37.726438Z",
     "shell.execute_reply": "2022-08-11T04:20:37.725039Z",
     "shell.execute_reply.started": "2022-08-11T04:20:37.63866Z"
    },
    "id": "2r0xlkHU-Yjk",
    "jupyter": {
     "outputs_hidden": false
    },
    "outputId": "084fbf5e-297a-4dee-ddc6-0318887addad"
   },
   "outputs": [
    {
     "data": {
      "text/plain": [
       "((11565, 21), (3855, 21), (11565, 1), (3855, 1))"
      ]
     },
     "execution_count": 51,
     "metadata": {},
     "output_type": "execute_result"
    }
   ],
   "source": [
    "X = df_new.drop('FraudFound',axis=1)\n",
    "y = df_new[['FraudFound']]\n",
    "X_train,X_test,y_train,y_test = train_test_split(X,y,stratify=y)\n",
    "X_train.shape, X_test.shape, y_train.shape, y_test.shape"
   ]
  },
  {
   "cell_type": "markdown",
   "metadata": {
    "_cell_guid": "fa8c5141-7cb2-4313-971a-3c27c5c85e27",
    "_uuid": "6ee02942-f87a-4178-b4e2-d8331e0aa869",
    "id": "O8oZWusS-Yjk"
   },
   "source": [
    "# Logistic Regression"
   ]
  },
  {
   "cell_type": "code",
   "execution_count": 52,
   "metadata": {
    "_cell_guid": "a72c742d-d506-45b4-8af1-fafbcf106668",
    "_uuid": "bc039dbb-c341-443b-ae53-4a828c8e8d88",
    "colab": {
     "base_uri": "https://localhost:8080/",
     "height": 486
    },
    "execution": {
     "iopub.execute_input": "2022-08-11T04:21:42.918787Z",
     "iopub.status.busy": "2022-08-11T04:21:42.918317Z",
     "iopub.status.idle": "2022-08-11T04:21:43.42895Z",
     "shell.execute_reply": "2022-08-11T04:21:43.427493Z",
     "shell.execute_reply.started": "2022-08-11T04:21:42.91875Z"
    },
    "id": "GhDu4J2c-Yjk",
    "jupyter": {
     "outputs_hidden": false
    },
    "outputId": "2dbead11-bb2c-4367-eb22-fc34420d3cf9"
   },
   "outputs": [
    {
     "name": "stdout",
     "output_type": "stream",
     "text": [
      "Accuracy of thie model:\t\t 0.9398184176394293\n"
     ]
    },
    {
     "data": {
      "image/png": "[encoded data removed]",
      "text/plain": [
       "<Figure size 360x360 with 1 Axes>"
      ]
     },
     "metadata": {
      "needs_background": "light"
     },
     "output_type": "display_data"
    }
   ],
   "source": [
    "lr = LogisticRegression()\n",
    "lr.fit(X_train,y_train)\n",
    "lr_pred = lr.predict(X_test)\n",
    "\n",
    "acc_lr=accuracy_score(y_test, lr_pred)\n",
    "print(\"Accuracy of thie model:\\t\\t\",acc_lr)\n",
    "conf_matrix(y_test,lr_pred)"
   ]
  },
  {
   "cell_type": "markdown",
   "metadata": {
    "_cell_guid": "c856fbef-e15d-4a67-9cdf-08f58c2466ac",
    "_uuid": "7e37d997-59eb-4089-882d-9f1e5d5043cc",
    "id": "H2OvQNui-Yjk"
   },
   "source": [
    "# RandomForest Classifier"
   ]
  },
  {
   "cell_type": "code",
   "execution_count": 53,
   "metadata": {
    "_cell_guid": "36a9f6b0-7cb1-4269-8971-684329613f00",
    "_uuid": "e9824c9d-f805-4fa8-9784-78670382722c",
    "colab": {
     "base_uri": "https://localhost:8080/",
     "height": 486
    },
    "execution": {
     "iopub.execute_input": "2022-08-11T04:23:04.182465Z",
     "iopub.status.busy": "2022-08-11T04:23:04.181048Z",
     "iopub.status.idle": "2022-08-11T04:23:05.421245Z",
     "shell.execute_reply": "2022-08-11T04:23:05.419905Z",
     "shell.execute_reply.started": "2022-08-11T04:23:04.182401Z"
    },
    "id": "XDb2y_BF-Yjk",
    "jupyter": {
     "outputs_hidden": false
    },
    "outputId": "66a300c7-e0ce-479d-a910-84f5f2487a35"
   },
   "outputs": [
    {
     "name": "stdout",
     "output_type": "stream",
     "text": [
      "Accuracy of thie model:\t\t 0.9395590142671855\n"
     ]
    },
    {
     "data": {
      "image/png": "[encoded data removed]",
      "text/plain": [
       "<Figure size 360x360 with 1 Axes>"
      ]
     },
     "metadata": {
      "needs_background": "light"
     },
     "output_type": "display_data"
    }
   ],
   "source": [
    "rfc = RandomForestClassifier()\n",
    "rfc.fit(X_train,y_train)\n",
    "rfc_pred = rfc.predict(X_test)\n",
    "\n",
    "acc_rfc=accuracy_score(y_test, rfc_pred)\n",
    "print(\"Accuracy of thie model:\\t\\t\",acc_rfc)\n",
    "conf_matrix(y_test,rfc_pred)"
   ]
  },
  {
   "cell_type": "markdown",
   "metadata": {
    "_cell_guid": "f8427f02-e3c0-4469-9cf6-51b2095844b8",
    "_uuid": "583a518a-107d-453f-8cd4-d203bca510a4",
    "id": "KL5Rbo7_-Yjk"
   },
   "source": [
    "## The dataset is extremely imbalanced and will not give accurate information. This can be overcome by one of the two ways :\n",
    "    Upscale the Minority Class    (FraudFound ==1) in this case\n",
    "    Downsample the Majority Class (FraudFound ==0) in this case"
   ]
  },
  {
   "cell_type": "markdown",
   "metadata": {
    "_cell_guid": "861fb710-536b-4763-9c3b-07df45e14c1e",
    "_uuid": "a69b71a2-cd4f-4f92-95b7-ee92c6124ec6",
    "id": "McKo-Na7-Yjk"
   },
   "source": [
    "# 1. Upscale the Minority Class"
   ]
  },
  {
   "cell_type": "code",
   "execution_count": 54,
   "metadata": {
    "_cell_guid": "7396a403-a029-4298-ad31-f4c5bb20afe5",
    "_uuid": "f554e366-5d9b-48b9-84ba-084ea8761ae5",
    "colab": {
     "base_uri": "https://localhost:8080/"
    },
    "execution": {
     "iopub.execute_input": "2022-08-11T04:27:15.922736Z",
     "iopub.status.busy": "2022-08-11T04:27:15.922168Z",
     "iopub.status.idle": "2022-08-11T04:27:15.950031Z",
     "shell.execute_reply": "2022-08-11T04:27:15.948868Z",
     "shell.execute_reply.started": "2022-08-11T04:27:15.922688Z"
    },
    "id": "mYWFGlJt-Yjl",
    "jupyter": {
     "outputs_hidden": false
    },
    "outputId": "ba8fcbff-1b43-4b4f-d899-46d4d659bd89"
   },
   "outputs": [
    {
     "data": {
      "text/plain": [
       "0    14497\n",
       "1    14497\n",
       "Name: FraudFound, dtype: int64"
      ]
     },
     "execution_count": 54,
     "metadata": {},
     "output_type": "execute_result"
    }
   ],
   "source": [
    "n = df_new.FraudFound.value_counts()[0]\n",
    "\n",
    "df_majority = df_new[df_new.FraudFound==0]\n",
    "df_minority = df_new[df_new.FraudFound==1]\n",
    "\n",
    "df_minority_upsampled = resample(df_minority,replace=True,n_samples = n,random_state=42)\n",
    "\n",
    "df_upsampled = pd.concat([df_majority,df_minority_upsampled])\n",
    "df_upsampled.FraudFound.value_counts()"
   ]
  },
  {
   "cell_type": "code",
   "execution_count": 55,
   "metadata": {
    "_cell_guid": "5c2432ea-3294-488f-8740-8b9d594280e6",
    "_uuid": "f0c2423f-beff-470f-b7e1-c307fd52fa06",
    "colab": {
     "base_uri": "https://localhost:8080/"
    },
    "execution": {
     "iopub.execute_input": "2022-08-11T04:27:18.294485Z",
     "iopub.status.busy": "2022-08-11T04:27:18.293717Z",
     "iopub.status.idle": "2022-08-11T04:27:18.435244Z",
     "shell.execute_reply": "2022-08-11T04:27:18.434099Z",
     "shell.execute_reply.started": "2022-08-11T04:27:18.294447Z"
    },
    "id": "tQQVC9Nu-Yjl",
    "jupyter": {
     "outputs_hidden": false
    },
    "outputId": "2fa6d2e6-a16b-4c33-d872-cf0cfe65c862"
   },
   "outputs": [
    {
     "data": {
      "text/plain": [
       "((21745, 21), (7249, 21), (21745, 1), (7249, 1))"
      ]
     },
     "execution_count": 55,
     "metadata": {},
     "output_type": "execute_result"
    }
   ],
   "source": [
    "X = df_upsampled.drop('FraudFound',axis=1)\n",
    "y = df_upsampled[['FraudFound']]\n",
    "X_train,X_test,y_train,y_test = train_test_split(X,y,stratify=y)\n",
    "X_train.shape, X_test.shape, y_train.shape, y_test.shape"
   ]
  },
  {
   "cell_type": "markdown",
   "metadata": {
    "_cell_guid": "9a7dcff8-7c28-41cd-9bdd-206d0f98de8f",
    "_uuid": "586be79d-3e25-4d00-9c19-1c3c2f7e0ef9",
    "id": "DoDQINT9-Yjl"
   },
   "source": [
    "## Logistic Regression"
   ]
  },
  {
   "cell_type": "code",
   "execution_count": 56,
   "metadata": {
    "_cell_guid": "c53b7870-f168-42f4-85e2-e3e3cfc48415",
    "_uuid": "714c7b3c-9161-40a1-911a-1ad248af3616",
    "colab": {
     "base_uri": "https://localhost:8080/",
     "height": 486
    },
    "execution": {
     "iopub.execute_input": "2022-08-11T04:27:42.045266Z",
     "iopub.status.busy": "2022-08-11T04:27:42.044797Z",
     "iopub.status.idle": "2022-08-11T04:27:42.623128Z",
     "shell.execute_reply": "2022-08-11T04:27:42.621913Z",
     "shell.execute_reply.started": "2022-08-11T04:27:42.045234Z"
    },
    "id": "CyaBWIJc-Yjl",
    "jupyter": {
     "outputs_hidden": false
    },
    "outputId": "4f7aa446-7801-4c18-c1b5-c685257f85d0"
   },
   "outputs": [
    {
     "name": "stdout",
     "output_type": "stream",
     "text": [
      "Accuracy of thie model:\t\t 0.7373430818043868\n"
     ]
    },
    {
     "data": {
      "image/png": "[encoded data removed]",
      "text/plain": [
       "<Figure size 360x360 with 1 Axes>"
      ]
     },
     "metadata": {
      "needs_background": "light"
     },
     "output_type": "display_data"
    }
   ],
   "source": [
    "lr = LogisticRegression()\n",
    "lr.fit(X_train,y_train)\n",
    "lr_upscale_pred = lr.predict(X_test)\n",
    "\n",
    "acc_lr_upscale=accuracy_score(y_test, lr_upscale_pred)\n",
    "print(\"Accuracy of thie model:\\t\\t\",acc_lr_upscale)\n",
    "conf_matrix(y_test,lr_upscale_pred)"
   ]
  },
  {
   "cell_type": "markdown",
   "metadata": {
    "_cell_guid": "1280d18e-ed27-4cc2-b99c-767ee92580a1",
    "_uuid": "c1600460-6234-4f2b-8ea0-95e2b27a8e10",
    "id": "vCA1lEki-Yjl"
   },
   "source": [
    "# RandomForest Classifier"
   ]
  },
  {
   "cell_type": "code",
   "execution_count": 57,
   "metadata": {
    "_cell_guid": "14699762-bce4-4e24-b2ba-6493d563e967",
    "_uuid": "ed9574f7-b440-4077-a4e4-3d717de17e4d",
    "colab": {
     "base_uri": "https://localhost:8080/",
     "height": 486
    },
    "execution": {
     "iopub.execute_input": "2022-08-11T04:30:23.661714Z",
     "iopub.status.busy": "2022-08-11T04:30:23.661321Z",
     "iopub.status.idle": "2022-08-11T04:30:26.0247Z",
     "shell.execute_reply": "2022-08-11T04:30:26.02339Z",
     "shell.execute_reply.started": "2022-08-11T04:30:23.661684Z"
    },
    "id": "grv8xV_5-Yjl",
    "jupyter": {
     "outputs_hidden": false
    },
    "outputId": "e17872ee-39de-4e11-f732-49193ae2d5ad"
   },
   "outputs": [
    {
     "name": "stdout",
     "output_type": "stream",
     "text": [
      "Accuracy of thie model:\t\t 0.9860670437301696\n"
     ]
    },
    {
     "data": {
      "image/png": "[encoded data removed]",
      "text/plain": [
       "<Figure size 360x360 with 1 Axes>"
      ]
     },
     "metadata": {
      "needs_background": "light"
     },
     "output_type": "display_data"
    }
   ],
   "source": [
    "rfc = RandomForestClassifier()\n",
    "rfc.fit(X_train,y_train)\n",
    "rfc_upscale_pred = rfc.predict(X_test)\n",
    "\n",
    "acc_rfc_upscale=accuracy_score(y_test, rfc_upscale_pred)\n",
    "print(\"Accuracy of thie model:\\t\\t\",acc_rfc_upscale)\n",
    "conf_matrix(y_test,rfc_upscale_pred)"
   ]
  },
  {
   "cell_type": "markdown",
   "metadata": {
    "_cell_guid": "7425da30-710f-4df5-8077-f1bcd467a850",
    "_uuid": "0e30281b-950d-4ca3-9313-85d7ef387b8d",
    "id": "4_F1swgM-Yjl"
   },
   "source": [
    "# DownSample Majority Class"
   ]
  },
  {
   "cell_type": "code",
   "execution_count": 58,
   "metadata": {
    "_cell_guid": "2f6c9061-46a5-4140-9b2a-15ce30d24463",
    "_uuid": "4642127d-567f-4c1b-a0e4-18a8fdced3a0",
    "colab": {
     "base_uri": "https://localhost:8080/"
    },
    "execution": {
     "iopub.execute_input": "2022-08-11T04:30:33.710041Z",
     "iopub.status.busy": "2022-08-11T04:30:33.709618Z",
     "iopub.status.idle": "2022-08-11T04:30:33.728524Z",
     "shell.execute_reply": "2022-08-11T04:30:33.727466Z",
     "shell.execute_reply.started": "2022-08-11T04:30:33.710003Z"
    },
    "id": "lVUjQVBy-Yjl",
    "jupyter": {
     "outputs_hidden": false
    },
    "outputId": "aa331235-1599-4e01-dec4-fcba3eb0f6da"
   },
   "outputs": [
    {
     "data": {
      "text/plain": [
       "1    923\n",
       "0    923\n",
       "Name: FraudFound, dtype: int64"
      ]
     },
     "execution_count": 58,
     "metadata": {},
     "output_type": "execute_result"
    }
   ],
   "source": [
    "n = df_new.FraudFound.value_counts()[1]\n",
    "\n",
    "df_majority = df_new[df_new.FraudFound==0]\n",
    "df_minority = df_new[df_new.FraudFound==1]\n",
    "\n",
    "df_majority_downsampled = resample(df_majority,replace=False,n_samples = n,random_state=42)\n",
    "\n",
    "df_downsampled = pd.concat([df_minority,df_majority_downsampled])\n",
    "df_downsampled.FraudFound.value_counts()"
   ]
  },
  {
   "cell_type": "code",
   "execution_count": 59,
   "metadata": {
    "_cell_guid": "dc97ee5b-7f94-40db-849b-c5a8f845763a",
    "_uuid": "a7d4e222-ab92-4f24-aff5-3c908ef9860f",
    "colab": {
     "base_uri": "https://localhost:8080/"
    },
    "execution": {
     "iopub.execute_input": "2022-08-11T04:30:36.799148Z",
     "iopub.status.busy": "2022-08-11T04:30:36.798714Z",
     "iopub.status.idle": "2022-08-11T04:30:36.82189Z",
     "shell.execute_reply": "2022-08-11T04:30:36.820668Z",
     "shell.execute_reply.started": "2022-08-11T04:30:36.7991Z"
    },
    "id": "64SA0uH9-Yjl",
    "jupyter": {
     "outputs_hidden": false
    },
    "outputId": "7495d4b7-2f35-4c78-dc0f-14d3a672b216"
   },
   "outputs": [
    {
     "data": {
      "text/plain": [
       "((1384, 21), (462, 21), (1384, 1), (462, 1))"
      ]
     },
     "execution_count": 59,
     "metadata": {},
     "output_type": "execute_result"
    }
   ],
   "source": [
    "X = df_downsampled.drop('FraudFound',axis=1)\n",
    "y = df_downsampled[['FraudFound']]\n",
    "X_train,X_test,y_train,y_test = train_test_split(X,y,stratify=y)\n",
    "X_train.shape, X_test.shape, y_train.shape, y_test.shape"
   ]
  },
  {
   "cell_type": "markdown",
   "metadata": {
    "_cell_guid": "3768aabc-c9ec-4228-885d-0c2b37ba82f0",
    "_uuid": "e72a9c18-b246-41a2-a231-fb93cbc30137",
    "id": "nS_LMVfj-Yjl"
   },
   "source": [
    "# Logistic Regression"
   ]
  },
  {
   "cell_type": "code",
   "execution_count": 60,
   "metadata": {
    "_cell_guid": "47bc9b28-8147-4ab3-babb-79a21c9170b7",
    "_uuid": "339f19a8-e508-4ef1-aa8b-582db508769a",
    "colab": {
     "base_uri": "https://localhost:8080/",
     "height": 486
    },
    "execution": {
     "iopub.execute_input": "2022-08-11T04:33:39.955566Z",
     "iopub.status.busy": "2022-08-11T04:33:39.955159Z",
     "iopub.status.idle": "2022-08-11T04:33:40.222063Z",
     "shell.execute_reply": "2022-08-11T04:33:40.221193Z",
     "shell.execute_reply.started": "2022-08-11T04:33:39.955535Z"
    },
    "id": "CdAArYi8-Yjl",
    "jupyter": {
     "outputs_hidden": false
    },
    "outputId": "4ac48263-b68b-4ad2-bdc4-15b836baf252"
   },
   "outputs": [
    {
     "name": "stdout",
     "output_type": "stream",
     "text": [
      "Accuracy of thie model:\t\t 0.7554112554112554\n"
     ]
    },
    {
     "data": {
      "image/png": "[encoded data removed]",
      "text/plain": [
       "<Figure size 360x360 with 1 Axes>"
      ]
     },
     "metadata": {
      "needs_background": "light"
     },
     "output_type": "display_data"
    }
   ],
   "source": [
    "lr = LogisticRegression()\n",
    "lr.fit(X_train,y_train)\n",
    "lr_downscale_pred = lr.predict(X_test)\n",
    "\n",
    "acc_lr_downscale=accuracy_score(y_test, lr_downscale_pred)\n",
    "print(\"Accuracy of thie model:\\t\\t\",acc_lr_downscale)\n",
    "conf_matrix(y_test,lr_downscale_pred)"
   ]
  },
  {
   "cell_type": "markdown",
   "metadata": {
    "_cell_guid": "0c1e64ed-ebf3-4255-bf07-0f14c92953bb",
    "_uuid": "af9204bd-7900-4da6-8681-dea1941e6bcb",
    "id": "U_BycNkK-Yjm"
   },
   "source": [
    "# RandomForest Classifier"
   ]
  },
  {
   "cell_type": "code",
   "execution_count": 61,
   "metadata": {
    "_cell_guid": "291e028d-f78f-4881-85c1-eee1dd4e473e",
    "_uuid": "da77e6a8-1b82-4348-89a5-915800d708ad",
    "colab": {
     "base_uri": "https://localhost:8080/",
     "height": 486
    },
    "execution": {
     "iopub.execute_input": "2022-08-11T04:33:55.964105Z",
     "iopub.status.busy": "2022-08-11T04:33:55.96364Z",
     "iopub.status.idle": "2022-08-11T04:33:56.40178Z",
     "shell.execute_reply": "2022-08-11T04:33:56.400906Z",
     "shell.execute_reply.started": "2022-08-11T04:33:55.964069Z"
    },
    "id": "TZmXcoOJ-Yjm",
    "jupyter": {
     "outputs_hidden": false
    },
    "outputId": "09a34490-a2cb-426d-8619-664b88b39970"
   },
   "outputs": [
    {
     "name": "stdout",
     "output_type": "stream",
     "text": [
      "Accuracy of thie model:\t\t 0.7597402597402597\n"
     ]
    },
    {
     "data": {
      "image/png": "[encoded data removed]",
      "text/plain": [
       "<Figure size 360x360 with 1 Axes>"
      ]
     },
     "metadata": {
      "needs_background": "light"
     },
     "output_type": "display_data"
    }
   ],
   "source": [
    "rfc = RandomForestClassifier()\n",
    "rfc.fit(X_train,y_train)\n",
    "rfc_downscale_pred = rfc.predict(X_test)\n",
    "\n",
    "acc_rfc_downscale=accuracy_score(y_test, rfc_downscale_pred)\n",
    "print(\"Accuracy of thie model:\\t\\t\",acc_rfc_downscale)\n",
    "conf_matrix(y_test,rfc_downscale_pred)"
   ]
  },
  {
   "cell_type": "code",
   "execution_count": 63,
   "metadata": {},
   "outputs": [
    {
     "data": {
      "text/plain": [
       "Index(['Make', 'AccidentArea', 'Sex', 'MaritalStatus', 'Fault',\n",
       "       'VehicleCategory', 'VehiclePrice', 'Year', 'DriverRating',\n",
       "       'Days:Policy-Accident', 'Days:Policy-Claim', 'PastNumberOfClaims',\n",
       "       'AgeOfVehicle', 'AgeOfPolicyHolder', 'PoliceReportFiled',\n",
       "       'WitnessPresent', 'AgentType', 'NumberOfSuppliments',\n",
       "       'AddressChange-Claim', 'NumberOfCars', 'BasePolicy'],\n",
       "      dtype='object')"
      ]
     },
     "execution_count": 63,
     "metadata": {},
     "output_type": "execute_result"
    }
   ],
   "source": [
    "X_train.columns"
   ]
  },
  {
   "cell_type": "markdown",
   "metadata": {
    "_cell_guid": "37988372-ffe9-477e-aa3f-8751e2c76e51",
    "_uuid": "e03d0e6f-509e-49de-8a98-e21e8ede7357",
    "id": "QunL2cGb-Yjm"
   },
   "source": [
    "# Comparison of Various Models"
   ]
  },
  {
   "cell_type": "code",
   "execution_count": 33,
   "metadata": {
    "_cell_guid": "be759f9b-9724-407d-8151-8db64777af86",
    "_uuid": "b4879586-6be2-40d0-8480-8c70e3eb45d1",
    "colab": {
     "base_uri": "https://localhost:8080/"
    },
    "execution": {
     "iopub.execute_input": "2022-08-11T04:35:54.533345Z",
     "iopub.status.busy": "2022-08-11T04:35:54.532932Z",
     "iopub.status.idle": "2022-08-11T04:35:54.542993Z",
     "shell.execute_reply": "2022-08-11T04:35:54.542152Z",
     "shell.execute_reply.started": "2022-08-11T04:35:54.53331Z"
    },
    "id": "KZ3Ja628-Yjm",
    "jupyter": {
     "outputs_hidden": false
    },
    "outputId": "cd048fe0-0840-4db4-af7f-5561d588cdf9"
   },
   "outputs": [
    {
     "name": "stdout",
     "output_type": "stream",
     "text": [
      "                               Model  Accuracy Score\n",
      "0                Logistic Regression        0.939559\n",
      "1        UpScale Logistic Regression        0.741482\n",
      "2      DownScale Logistic Regression        0.735931\n",
      "3            RandomForest Classifier        0.938003\n",
      "4    UpScale RandomForest Classifier        0.988274\n",
      "5  DownScale RandomForest Classifier        0.777056\n"
     ]
    }
   ],
   "source": [
    "data = {'Model':['Logistic Regression','UpScale Logistic Regression','DownScale Logistic Regression',\n",
    "                 'RandomForest Classifier','UpScale RandomForest Classifier','DownScale RandomForest Classifier'],\n",
    "\n",
    "        'Accuracy Score':[acc_lr,acc_lr_upscale,acc_lr_downscale,acc_rfc,acc_rfc_upscale,acc_rfc_downscale]}\n",
    "\n",
    "comparision_table=pd.DataFrame(data)\n",
    "print(comparision_table)"
   ]
  },
  {
   "cell_type": "code",
   "execution_count": 34,
   "metadata": {
    "id": "PpHkflNJXRwT"
   },
   "outputs": [],
   "source": [
    "import pickle\n",
    "\n",
    "# Save the model\n",
    "with open('rfc_model.pkl', 'wb') as f:\n",
    "    pickle.dump(rfc, f)"
   ]
  },
  {
   "cell_type": "code",
   "execution_count": 39,
   "metadata": {},
   "outputs": [],
   "source": [
    "import joblib\n",
    "\n",
    "# Save the model\n",
    "joblib.dump(rfc, \"rfc_model.joblib\")\n",
    "\n",
    "# Load the model\n",
    "model = joblib.load(\"rfc_model.joblib\")"
   ]
  },
  {
   "cell_type": "code",
   "execution_count": 35,
   "metadata": {},
   "outputs": [
    {
     "data": {
      "text/plain": [
       "Index(['Make', 'AccidentArea', 'Sex', 'MaritalStatus', 'Fault',\n",
       "       'VehicleCategory', 'VehiclePrice', 'Year', 'DriverRating',\n",
       "       'Days:Policy-Accident', 'Days:Policy-Claim', 'PastNumberOfClaims',\n",
       "       'AgeOfVehicle', 'AgeOfPolicyHolder', 'PoliceReportFiled',\n",
       "       'WitnessPresent', 'AgentType', 'NumberOfSuppliments',\n",
       "       'AddressChange-Claim', 'NumberOfCars', 'BasePolicy'],\n",
       "      dtype='object')"
      ]
     },
     "execution_count": 35,
     "metadata": {},
     "output_type": "execute_result"
    }
   ],
   "source": [
    "X_test.columns"
   ]
  },
  {
   "cell_type": "code",
   "execution_count": 41,
   "metadata": {},
   "outputs": [
    {
     "name": "stdout",
     "output_type": "stream",
     "text": [
      "Name: scikit-learn\r\n",
      "Version: 1.4.1.post1\r\n",
      "Summary: A set of python modules for machine learning and data mining\r\n",
      "Home-page: https://scikit-learn.org\r\n",
      "Author: \r\n",
      "Author-email: \r\n",
      "License: new BSD\r\n",
      "Location: /Users/ntipl/miniconda3/lib/python3.11/site-packages\r\n",
      "Requires: joblib, numpy, scipy, threadpoolctl\r\n",
      "Required-by: \r\n"
     ]
    }
   ],
   "source": [
    "!pip show scikit-learn\n"
   ]
  },
  {
   "cell_type": "code",
   "execution_count": 36,
   "metadata": {},
   "outputs": [
    {
     "data": {
      "text/plain": [
       "Make                    15\n",
       "AccidentArea             1\n",
       "Sex                      1\n",
       "MaritalStatus            1\n",
       "Fault                    0\n",
       "VehicleCategory          1\n",
       "VehiclePrice             1\n",
       "Year                     1\n",
       "DriverRating             3\n",
       "Days:Policy-Accident     3\n",
       "Days:Policy-Claim        2\n",
       "PastNumberOfClaims       1\n",
       "AgeOfVehicle             6\n",
       "AgeOfPolicyHolder        6\n",
       "PoliceReportFiled        0\n",
       "WitnessPresent           0\n",
       "AgentType                0\n",
       "NumberOfSuppliments      2\n",
       "AddressChange-Claim      3\n",
       "NumberOfCars             0\n",
       "BasePolicy               2\n",
       "Name: 8468, dtype: int64"
      ]
     },
     "execution_count": 36,
     "metadata": {},
     "output_type": "execute_result"
    }
   ],
   "source": [
    "X_test.iloc[0]"
   ]
  },
  {
   "cell_type": "code",
   "execution_count": null,
   "metadata": {},
   "outputs": [],
   "source": []
  },
  {
   "cell_type": "code",
   "execution_count": 42,
   "metadata": {},
   "outputs": [
    {
     "name": "stdout",
     "output_type": "stream",
     "text": [
      "RandomForestClassifier()\n"
     ]
    }
   ],
   "source": [
    "import joblib\n",
    "\n",
    "# Load the model file\n",
    "model = joblib.load(\"rfc_model.joblib\")\n",
    "\n",
    "# Inspect the model\n",
    "print(model)\n"
   ]
  },
  {
   "cell_type": "code",
   "execution_count": null,
   "metadata": {},
   "outputs": [],
   "source": []
  }
 ],
 "metadata": {
  "colab": {
   "provenance": []
  },
  "kaggle": {
   "accelerator": "none",
   "dataSources": [
    {
     "datasetId": 2344951,
     "sourceId": 3950743,
     "sourceType": "datasetVersion"
    }
   ],
   "dockerImageVersionId": 30213,
   "isGpuEnabled": false,
   "isInternetEnabled": false,
   "language": "python",
   "sourceType": "notebook"
  },
  "kernelspec": {
   "display_name": "Python 3 (ipykernel)",
   "language": "python",
   "name": "python3"
  },
  "language_info": {
   "codemirror_mode": {
    "name": "ipython",
    "version": 3
   },
   "file_extension": ".py",
   "mimetype": "text/x-python",
   "name": "python",
   "nbconvert_exporter": "python",
   "pygments_lexer": "ipython3",
   "version": "3.9.12"
  }
 },
 "nbformat": 4,
 "nbformat_minor": 1
}
